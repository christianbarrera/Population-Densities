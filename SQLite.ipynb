{
 "cells": [
  {
   "cell_type": "code",
   "execution_count": 1,
   "metadata": {},
   "outputs": [
    {
     "data": {
      "text/plain": [
       "[('table',\n",
       "  'sqlite_sequence',\n",
       "  'sqlite_sequence',\n",
       "  3,\n",
       "  'CREATE TABLE sqlite_sequence(name,seq)'),\n",
       " ('table',\n",
       "  'facts',\n",
       "  'facts',\n",
       "  47,\n",
       "  'CREATE TABLE \"facts\" (\"id\" INTEGER PRIMARY KEY AUTOINCREMENT NOT NULL, \"code\" varchar(255) NOT NULL, \"name\" varchar(255) NOT NULL, \"area\" integer, \"area_land\" integer, \"area_water\" integer, \"population\" integer, \"population_growth\" float, \"birth_rate\" float, \"death_rate\" float, \"migration_rate\" float)')]"
      ]
     },
     "execution_count": 1,
     "metadata": {},
     "output_type": "execute_result"
    }
   ],
   "source": [
    "import sqlite3\n",
    "import pandas as pd\n",
    "\n",
    "conn = sqlite3.connect(\"factbook.db\")\n",
    "q = \"select * from sqlite_master where type='table';\"\n",
    "cursor = conn.cursor()\n",
    "cursor.execute(q).fetchall()"
   ]
  },
  {
   "cell_type": "code",
   "execution_count": 2,
   "metadata": {},
   "outputs": [
    {
     "data": {
      "text/html": [
       "<div>\n",
       "<style scoped>\n",
       "    .dataframe tbody tr th:only-of-type {\n",
       "        vertical-align: middle;\n",
       "    }\n",
       "\n",
       "    .dataframe tbody tr th {\n",
       "        vertical-align: top;\n",
       "    }\n",
       "\n",
       "    .dataframe thead th {\n",
       "        text-align: right;\n",
       "    }\n",
       "</style>\n",
       "<table border=\"1\" class=\"dataframe\">\n",
       "  <thead>\n",
       "    <tr style=\"text-align: right;\">\n",
       "      <th></th>\n",
       "      <th>id</th>\n",
       "      <th>code</th>\n",
       "      <th>name</th>\n",
       "      <th>area</th>\n",
       "      <th>area_land</th>\n",
       "      <th>area_water</th>\n",
       "      <th>population</th>\n",
       "      <th>population_growth</th>\n",
       "      <th>birth_rate</th>\n",
       "      <th>death_rate</th>\n",
       "      <th>migration_rate</th>\n",
       "    </tr>\n",
       "  </thead>\n",
       "  <tbody>\n",
       "    <tr>\n",
       "      <td>0</td>\n",
       "      <td>1</td>\n",
       "      <td>af</td>\n",
       "      <td>Afghanistan</td>\n",
       "      <td>652230</td>\n",
       "      <td>652230</td>\n",
       "      <td>0</td>\n",
       "      <td>32564342</td>\n",
       "      <td>2.32</td>\n",
       "      <td>38.57</td>\n",
       "      <td>13.89</td>\n",
       "      <td>1.51</td>\n",
       "    </tr>\n",
       "    <tr>\n",
       "      <td>1</td>\n",
       "      <td>2</td>\n",
       "      <td>al</td>\n",
       "      <td>Albania</td>\n",
       "      <td>28748</td>\n",
       "      <td>27398</td>\n",
       "      <td>1350</td>\n",
       "      <td>3029278</td>\n",
       "      <td>0.30</td>\n",
       "      <td>12.92</td>\n",
       "      <td>6.58</td>\n",
       "      <td>3.30</td>\n",
       "    </tr>\n",
       "    <tr>\n",
       "      <td>2</td>\n",
       "      <td>3</td>\n",
       "      <td>ag</td>\n",
       "      <td>Algeria</td>\n",
       "      <td>2381741</td>\n",
       "      <td>2381741</td>\n",
       "      <td>0</td>\n",
       "      <td>39542166</td>\n",
       "      <td>1.84</td>\n",
       "      <td>23.67</td>\n",
       "      <td>4.31</td>\n",
       "      <td>0.92</td>\n",
       "    </tr>\n",
       "    <tr>\n",
       "      <td>3</td>\n",
       "      <td>4</td>\n",
       "      <td>an</td>\n",
       "      <td>Andorra</td>\n",
       "      <td>468</td>\n",
       "      <td>468</td>\n",
       "      <td>0</td>\n",
       "      <td>85580</td>\n",
       "      <td>0.12</td>\n",
       "      <td>8.13</td>\n",
       "      <td>6.96</td>\n",
       "      <td>0.00</td>\n",
       "    </tr>\n",
       "    <tr>\n",
       "      <td>4</td>\n",
       "      <td>5</td>\n",
       "      <td>ao</td>\n",
       "      <td>Angola</td>\n",
       "      <td>1246700</td>\n",
       "      <td>1246700</td>\n",
       "      <td>0</td>\n",
       "      <td>19625353</td>\n",
       "      <td>2.78</td>\n",
       "      <td>38.78</td>\n",
       "      <td>11.49</td>\n",
       "      <td>0.46</td>\n",
       "    </tr>\n",
       "  </tbody>\n",
       "</table>\n",
       "</div>"
      ],
      "text/plain": [
       "   id code         name     area  area_land  area_water  population  \\\n",
       "0   1   af  Afghanistan   652230     652230           0    32564342   \n",
       "1   2   al      Albania    28748      27398        1350     3029278   \n",
       "2   3   ag      Algeria  2381741    2381741           0    39542166   \n",
       "3   4   an      Andorra      468        468           0       85580   \n",
       "4   5   ao       Angola  1246700    1246700           0    19625353   \n",
       "\n",
       "   population_growth  birth_rate  death_rate  migration_rate  \n",
       "0               2.32       38.57       13.89            1.51  \n",
       "1               0.30       12.92        6.58            3.30  \n",
       "2               1.84       23.67        4.31            0.92  \n",
       "3               0.12        8.13        6.96            0.00  \n",
       "4               2.78       38.78       11.49            0.46  "
      ]
     },
     "execution_count": 2,
     "metadata": {},
     "output_type": "execute_result"
    }
   ],
   "source": [
    "q5 = \"select * from facts limit 5;\"\n",
    "#q5 = \"Select * from facts where name = 'Antarctica';\"\n",
    "pd.read_sql_query(q5, conn)"
   ]
  },
  {
   "cell_type": "code",
   "execution_count": 3,
   "metadata": {},
   "outputs": [
    {
     "data": {
      "text/html": [
       "<div>\n",
       "<style scoped>\n",
       "    .dataframe tbody tr th:only-of-type {\n",
       "        vertical-align: middle;\n",
       "    }\n",
       "\n",
       "    .dataframe tbody tr th {\n",
       "        vertical-align: top;\n",
       "    }\n",
       "\n",
       "    .dataframe thead th {\n",
       "        text-align: right;\n",
       "    }\n",
       "</style>\n",
       "<table border=\"1\" class=\"dataframe\">\n",
       "  <thead>\n",
       "    <tr style=\"text-align: right;\">\n",
       "      <th></th>\n",
       "      <th>MIN(population)</th>\n",
       "      <th>MAX(population)</th>\n",
       "      <th>MIN(population_growth)</th>\n",
       "      <th>MAX(population_growth)</th>\n",
       "    </tr>\n",
       "  </thead>\n",
       "  <tbody>\n",
       "    <tr>\n",
       "      <td>0</td>\n",
       "      <td>0</td>\n",
       "      <td>7256490011</td>\n",
       "      <td>0.0</td>\n",
       "      <td>4.02</td>\n",
       "    </tr>\n",
       "  </tbody>\n",
       "</table>\n",
       "</div>"
      ],
      "text/plain": [
       "   MIN(population)  MAX(population)  MIN(population_growth)  \\\n",
       "0                0       7256490011                     0.0   \n",
       "\n",
       "   MAX(population_growth)  \n",
       "0                    4.02  "
      ]
     },
     "execution_count": 3,
     "metadata": {},
     "output_type": "execute_result"
    }
   ],
   "source": [
    "qminmax = \"select MIN(population),MAX(population),MIN(population_growth),MAX(population_growth) from facts;\"\n",
    "#qminmax = \"select MIN(population) from facts;\"\n",
    "pd.read_sql_query(qminmax, conn)"
   ]
  },
  {
   "cell_type": "code",
   "execution_count": 4,
   "metadata": {},
   "outputs": [
    {
     "data": {
      "text/html": [
       "<div>\n",
       "<style scoped>\n",
       "    .dataframe tbody tr th:only-of-type {\n",
       "        vertical-align: middle;\n",
       "    }\n",
       "\n",
       "    .dataframe tbody tr th {\n",
       "        vertical-align: top;\n",
       "    }\n",
       "\n",
       "    .dataframe thead th {\n",
       "        text-align: right;\n",
       "    }\n",
       "</style>\n",
       "<table border=\"1\" class=\"dataframe\">\n",
       "  <thead>\n",
       "    <tr style=\"text-align: right;\">\n",
       "      <th></th>\n",
       "      <th>id</th>\n",
       "      <th>code</th>\n",
       "      <th>name</th>\n",
       "      <th>area</th>\n",
       "      <th>area_land</th>\n",
       "      <th>area_water</th>\n",
       "      <th>population</th>\n",
       "      <th>population_growth</th>\n",
       "      <th>birth_rate</th>\n",
       "      <th>death_rate</th>\n",
       "      <th>migration_rate</th>\n",
       "    </tr>\n",
       "  </thead>\n",
       "  <tbody>\n",
       "    <tr>\n",
       "      <td>0</td>\n",
       "      <td>250</td>\n",
       "      <td>ay</td>\n",
       "      <td>Antarctica</td>\n",
       "      <td>None</td>\n",
       "      <td>280000.0</td>\n",
       "      <td>None</td>\n",
       "      <td>0</td>\n",
       "      <td>NaN</td>\n",
       "      <td>NaN</td>\n",
       "      <td>NaN</td>\n",
       "      <td>None</td>\n",
       "    </tr>\n",
       "    <tr>\n",
       "      <td>1</td>\n",
       "      <td>261</td>\n",
       "      <td>xx</td>\n",
       "      <td>World</td>\n",
       "      <td>None</td>\n",
       "      <td>NaN</td>\n",
       "      <td>None</td>\n",
       "      <td>7256490011</td>\n",
       "      <td>1.08</td>\n",
       "      <td>18.6</td>\n",
       "      <td>7.8</td>\n",
       "      <td>None</td>\n",
       "    </tr>\n",
       "  </tbody>\n",
       "</table>\n",
       "</div>"
      ],
      "text/plain": [
       "    id code        name  area  area_land area_water  population  \\\n",
       "0  250   ay  Antarctica  None   280000.0       None           0   \n",
       "1  261   xx       World  None        NaN       None  7256490011   \n",
       "\n",
       "   population_growth  birth_rate  death_rate migration_rate  \n",
       "0                NaN         NaN         NaN           None  \n",
       "1               1.08        18.6         7.8           None  "
      ]
     },
     "execution_count": 4,
     "metadata": {},
     "output_type": "execute_result"
    }
   ],
   "source": [
    "qextremes = \"select * from facts where (population > 7e9 or population = 0)\"# and name not in ('World', 'Antarctica');\"\n",
    "pd.read_sql_query(qextremes, conn)"
   ]
  },
  {
   "cell_type": "markdown",
   "metadata": {},
   "source": [
    "Two data points that fit the extremes in this scenario are 1) Antartica and 2) World.  Neither of these are countries, therefore don't necessarily fit in with our dataset.  "
   ]
  },
  {
   "cell_type": "code",
   "execution_count": 5,
   "metadata": {},
   "outputs": [
    {
     "name": "stderr",
     "output_type": "stream",
     "text": [
      "/Users/ChristianBarrera/anaconda/lib/python3.6/site-packages/ipykernel_launcher.py:11: UserWarning: To output multiple subplots, the figure containing the passed axes is being cleared\n",
      "  # This is added back by InteractiveShellApp.init_path()\n"
     ]
    },
    {
     "data": {
      "text/plain": [
       "array([[<matplotlib.axes._subplots.AxesSubplot object at 0x1171c4278>,\n",
       "        <matplotlib.axes._subplots.AxesSubplot object at 0x11930d518>],\n",
       "       [<matplotlib.axes._subplots.AxesSubplot object at 0x11933aeb8>,\n",
       "        <matplotlib.axes._subplots.AxesSubplot object at 0x119372898>]],\n",
       "      dtype=object)"
      ]
     },
     "execution_count": 5,
     "metadata": {},
     "output_type": "execute_result"
    },
    {
     "data": {
      "image/png": "[encoded data removed]",
      "text/plain": [
       "<Figure size 720x720 with 4 Axes>"
      ]
     },
     "metadata": {},
     "output_type": "display_data"
    }
   ],
   "source": [
    "import matplotlib.pyplot as plt\n",
    "import seaborn as sbn\n",
    "%matplotlib inline\n",
    "\n",
    "fig = plt.figure(figsize=(10,10))\n",
    "ax = fig.add_subplot(111)\n",
    "\n",
    "queue = '''select population, population_growth, birth_rate, death_rate from facts \n",
    "where name not in ('Antarctica', 'World');\n",
    "'''\n",
    "pd.read_sql_query(queue, conn).hist(ax=ax)"
   ]
  },
  {
   "cell_type": "code",
   "execution_count": 6,
   "metadata": {
    "collapsed": true
   },
   "outputs": [],
   "source": [
    "q_density = '''select name,population/area_land density from facts\n",
    "order by density desc\n",
    "'''\n",
    "df = pd.read_sql_query(q_density, conn)\n",
    "# print(df)"
   ]
  },
  {
   "cell_type": "code",
   "execution_count": 7,
   "metadata": {},
   "outputs": [
    {
     "name": "stderr",
     "output_type": "stream",
     "text": [
      "/Users/ChristianBarrera/anaconda/lib/python3.6/site-packages/ipykernel_launcher.py:16: FutureWarning: `item` has been deprecated and will be removed in a future version\n",
      "  app.launch_new_instance()\n"
     ]
    },
    {
     "name": "stdout",
     "output_type": "stream",
     "text": [
      "--NEW--\n",
      "                                   name density CODE\n",
      "0                                Macau   21168  MAC\n",
      "1                               Monaco   15267  MCO\n",
      "2                            Singapore    8259  SGP\n",
      "3                            Hong Kong    6655  HKG\n",
      "4                            Gibraltar    4876  GIB\n",
      "..                                 ...     ...  ...\n",
      "217                          Greenland       0  GRL\n",
      "218  Falkland Islands (Islas Malvinas)       0  FLK\n",
      "219                           Ethiopia     NaN  ETH\n",
      "220                        South Sudan     NaN  SSD\n",
      "221                              Sudan     NaN  SDN\n",
      "\n",
      "[222 rows x 3 columns]\n"
     ]
    }
   ],
   "source": [
    "codes = pd.read_csv('https://raw.githubusercontent.com/plotly/datasets/master/2014_world_gdp_with_codes.csv')\n",
    "# countries = df # Apply the country code to each country to make a 3-letter standard\n",
    "\n",
    "\n",
    "extras = [] # create an empty list to add countries that don't align with a country code\n",
    "new_data = pd.DataFrame(index=range(300),columns=['name', 'density', 'CODE'])\n",
    "\n",
    "i = 0\n",
    "for country in df['name']:\n",
    "    row = df[df['name']==country].index[0]\n",
    "    temp = codes[codes['COUNTRY']==country]\n",
    "    try:    \n",
    "        temp = temp['CODE'].iloc[0]  \n",
    "        new_data.loc[i]['CODE'] = temp\n",
    "        new_data.loc[i]['name'] = country\n",
    "        new_data.loc[i]['density'] = df[df['name']==country]['density'].item()\n",
    "        # print(country, df[df['name']==country]['density'].item(), temp)\n",
    "\n",
    "        i += 1\n",
    "    except IndexError:  # handle this error and add to the list of countries without a code\n",
    "        extras.append(country)  # 'extras' is a list of countries that are not impactful enough for the final graph\n",
    "\n",
    "new_data = new_data.drop(range(222,300))\n",
    "print(\"--NEW--\\n\", new_data)\n"
   ]
  },
  {
   "cell_type": "code",
   "execution_count": 8,
   "metadata": {},
   "outputs": [
    {
     "name": "stdout",
     "output_type": "stream",
     "text": [
      "                                  name density CODE\n",
      "0                                Macau   21168  MAC\n",
      "1                               Monaco   15267  MCO\n",
      "2                            Singapore    8259  SGP\n",
      "3                            Hong Kong    6655  HKG\n",
      "4                            Gibraltar    4876  GIB\n",
      "..                                 ...     ...  ...\n",
      "214                          Australia       2  AUS\n",
      "215                            Namibia       2  NAM\n",
      "216                           Mongolia       1  MNG\n",
      "217                          Greenland       0  GRL\n",
      "218  Falkland Islands (Islas Malvinas)       0  FLK\n",
      "\n",
      "[219 rows x 3 columns]\n"
     ]
    }
   ],
   "source": [
    "# Last three rows are junk because the land area data is missing.  Drop last three rows\n",
    "\n",
    "df = new_data.drop(range(219,222))\n",
    "print(df)\n"
   ]
  },
  {
   "cell_type": "code",
   "execution_count": 9,
   "metadata": {},
   "outputs": [
    {
     "data": {
      "text/html": [
       "        <script type=\"text/javascript\">\n",
       "        window.PlotlyConfig = {MathJaxConfig: 'local'};\n",
       "        if (window.MathJax) {MathJax.Hub.Config({SVG: {font: \"STIX-Web\"}});}\n",
       "        if (typeof require !== 'undefined') {\n",
       "        require.undef(\"plotly\");\n",
       "        requirejs.config({\n",
       "            paths: {\n",
       "                'plotly': ['https://cdn.plot.ly/plotly-latest.min']\n",
       "            }\n",
       "        });\n",
       "        require(['plotly'], function(Plotly) {\n",
       "            window._Plotly = Plotly;\n",
       "        });\n",
       "        }\n",
       "        </script>\n",
       "        "
      ]
     },
     "metadata": {},
     "output_type": "display_data"
    },
    {
     "data": {
      "application/vnd.plotly.v1+json": {
       "config": {
        "linkText": "Export to plot.ly",
        "plotlyServerURL": "https://plot.ly",
        "showLink": false
       },
       "data": [
        {
         "autocolorscale": false,
         "colorscale": [
          [
           0,
           "rgb(243, 231, 155)"
          ],
          [
           0.16666666666666666,
           "rgb(250, 196, 132)"
          ],
          [
           0.3333333333333333,
           "rgb(248, 160, 126)"
          ],
          [
           0.5,
           "rgb(235, 127, 134)"
          ],
          [
           0.6666666666666666,
           "rgb(206, 102, 147)"
          ],
          [
           0.8333333333333334,
           "rgb(160, 89, 160)"
          ],
          [
           1,
           "rgb(92, 83, 165)"
          ]
         ],
         "locations": [
          "MAC",
          "MCO",
          "SGP",
          "HKG",
          "GIB",
          "BHR",
          "MDV",
          "MLT",
          "BMU",
          "BGD",
          "SXM",
          "GGY",
          "JEY",
          "TWN",
          "BRB",
          "MUS",
          "ABW",
          "LBN",
          "MAF",
          "SMR",
          "RWA",
          "KOR",
          "NLD",
          "WBG",
          "IND",
          "BDI",
          "TUV",
          "PRI",
          "MHL",
          "ISR",
          "BEL",
          "HTI",
          "COM",
          "JPN",
          "LKA",
          "PHL",
          "CUW",
          "GRD",
          "VNM",
          "VGB",
          "GUM",
          "SLV",
          "ASM",
          "JAM",
          "LCA",
          "GBR",
          "VCT",
          "PAK",
          "TTO",
          "LIE",
          "DEU",
          "VGB",
          "LUX",
          "NPL",
          "DOM",
          "CYM",
          "ITA",
          "ATG",
          "PRK",
          "SYC",
          "CHE",
          "STP",
          "NGA",
          "KNA",
          "GMB",
          "MWI",
          "QAT",
          "UGA",
          "AND",
          "AIA",
          "KSV",
          "KWT",
          "IMN",
          "FSM",
          "TON",
          "CHN",
          "IDN",
          "GTM",
          "TGO",
          "CZE",
          "CPV",
          "THA",
          "DNK",
          "KIR",
          "CYP",
          "POL",
          "AZE",
          "PRT",
          "GHA",
          "SVK",
          "MNP",
          "ALB",
          "HUN",
          "ARM",
          "MDA",
          "AUT",
          "FRA",
          "TUR",
          "CUB",
          "DMA",
          "SVN",
          "ESP",
          "BEN",
          "CRI",
          "ROU",
          "MYS",
          "SRB",
          "SYR",
          "JOR",
          "KHM",
          "EGY",
          "MMR",
          "IRQ",
          "SWZ",
          "GRC",
          "MKD",
          "SLE",
          "TLS",
          "BRN",
          "KEN",
          "HRV",
          "HND",
          "UKR",
          "BIH",
          "MAR",
          "CIV",
          "PYF",
          "SEN",
          "IRL",
          "TUN",
          "GEO",
          "WSM",
          "BFA",
          "ARE",
          "UZB",
          "BGR",
          "ERI",
          "LSO",
          "MEX",
          "GNB",
          "ECU",
          "TJK",
          "TZA",
          "IRN",
          "CMR",
          "YEM",
          "AFG",
          "FJI",
          "NIC",
          "PAN",
          "MNE",
          "BLR",
          "GIN",
          "LTU",
          "PLW",
          "COL",
          "ZAF",
          "LBR",
          "COK",
          "MDG",
          "ZWE",
          "FRO",
          "COD",
          "DJI",
          "USA",
          "VEN",
          "BHM",
          "MOZ",
          "LVA",
          "EST",
          "KGZ",
          "LAO",
          "GNQ",
          "BRA",
          "CHL",
          "PER",
          "SWE",
          "SPM",
          "SLB",
          "VUT",
          "ZMB",
          "BTN",
          "URY",
          "FIN",
          "NOR",
          "PRY",
          "DZA",
          "NZL",
          "SOM",
          "AGO",
          "ARG",
          "BLZ",
          "NER",
          "PNG",
          "NCL",
          "COG",
          "MLI",
          "SAU",
          "TKM",
          "OMN",
          "BOL",
          "TCD",
          "CAF",
          "RUS",
          "GAB",
          "KAZ",
          "NIU",
          "BWA",
          "CAN",
          "GUY",
          "ISL",
          "LBY",
          "MRT",
          "SUR",
          "AUS",
          "NAM",
          "MNG",
          "GRL",
          "FLK"
         ],
         "marker": {
          "line": {
           "color": "darkgray",
           "width": 0.2
          }
         },
         "reversescale": false,
         "showscale": true,
         "text": [
          "Macau",
          "Monaco",
          "Singapore",
          "Hong Kong",
          "Gibraltar",
          "Bahrain",
          "Maldives",
          "Malta",
          "Bermuda",
          "Bangladesh",
          "Sint Maarten",
          "Guernsey",
          "Jersey",
          "Taiwan",
          "Barbados",
          "Mauritius",
          "Aruba",
          "Lebanon",
          "Saint Martin",
          "San Marino",
          "Rwanda",
          "Korea, South",
          "Netherlands",
          "West Bank",
          "India",
          "Burundi",
          "Tuvalu",
          "Puerto Rico",
          "Marshall Islands",
          "Israel",
          "Belgium",
          "Haiti",
          "Comoros",
          "Japan",
          "Sri Lanka",
          "Philippines",
          "Curacao",
          "Grenada",
          "Vietnam",
          "Virgin Islands",
          "Guam",
          "El Salvador",
          "American Samoa",
          "Jamaica",
          "Saint Lucia",
          "United Kingdom",
          "Saint Vincent and the Grenadines",
          "Pakistan",
          "Trinidad and Tobago",
          "Liechtenstein",
          "Germany",
          "British Virgin Islands",
          "Luxembourg",
          "Nepal",
          "Dominican Republic",
          "Cayman Islands",
          "Italy",
          "Antigua and Barbuda",
          "Korea, North",
          "Seychelles",
          "Switzerland",
          "Sao Tome and Principe",
          "Nigeria",
          "Saint Kitts and Nevis",
          "Gambia, The",
          "Malawi",
          "Qatar",
          "Uganda",
          "Andorra",
          "Anguilla",
          "Kosovo",
          "Kuwait",
          "Isle of Man",
          "Micronesia, Federated States of",
          "Tonga",
          "China",
          "Indonesia",
          "Guatemala",
          "Togo",
          "Czech Republic",
          "Cabo Verde",
          "Thailand",
          "Denmark",
          "Kiribati",
          "Cyprus",
          "Poland",
          "Azerbaijan",
          "Portugal",
          "Ghana",
          "Slovakia",
          "Northern Mariana Islands",
          "Albania",
          "Hungary",
          "Armenia",
          "Moldova",
          "Austria",
          "France",
          "Turkey",
          "Cuba",
          "Dominica",
          "Slovenia",
          "Spain",
          "Benin",
          "Costa Rica",
          "Romania",
          "Malaysia",
          "Serbia",
          "Syria",
          "Jordan",
          "Cambodia",
          "Egypt",
          "Burma",
          "Iraq",
          "Swaziland",
          "Greece",
          "Macedonia",
          "Sierra Leone",
          "Timor-Leste",
          "Brunei",
          "Kenya",
          "Croatia",
          "Honduras",
          "Ukraine",
          "Bosnia and Herzegovina",
          "Morocco",
          "Cote d'Ivoire",
          "French Polynesia",
          "Senegal",
          "Ireland",
          "Tunisia",
          "Georgia",
          "Samoa",
          "Burkina Faso",
          "United Arab Emirates",
          "Uzbekistan",
          "Bulgaria",
          "Eritrea",
          "Lesotho",
          "Mexico",
          "Guinea-Bissau",
          "Ecuador",
          "Tajikistan",
          "Tanzania",
          "Iran",
          "Cameroon",
          "Yemen",
          "Afghanistan",
          "Fiji",
          "Nicaragua",
          "Panama",
          "Montenegro",
          "Belarus",
          "Guinea",
          "Lithuania",
          "Palau",
          "Colombia",
          "South Africa",
          "Liberia",
          "Cook Islands",
          "Madagascar",
          "Zimbabwe",
          "Faroe Islands",
          "Congo, Democratic Republic of the",
          "Djibouti",
          "United States",
          "Venezuela",
          "Bahamas, The",
          "Mozambique",
          "Latvia",
          "Estonia",
          "Kyrgyzstan",
          "Laos",
          "Equatorial Guinea",
          "Brazil",
          "Chile",
          "Peru",
          "Sweden",
          "Saint Pierre and Miquelon",
          "Solomon Islands",
          "Vanuatu",
          "Zambia",
          "Bhutan",
          "Uruguay",
          "Finland",
          "Norway",
          "Paraguay",
          "Algeria",
          "New Zealand",
          "Somalia",
          "Angola",
          "Argentina",
          "Belize",
          "Niger",
          "Papua New Guinea",
          "New Caledonia",
          "Congo, Republic of the",
          "Mali",
          "Saudi Arabia",
          "Turkmenistan",
          "Oman",
          "Bolivia",
          "Chad",
          "Central African Republic",
          "Russia",
          "Gabon",
          "Kazakhstan",
          "Niue",
          "Botswana",
          "Canada",
          "Guyana",
          "Iceland",
          "Libya",
          "Mauritania",
          "Suriname",
          "Australia",
          "Namibia",
          "Mongolia",
          "Greenland",
          "Falkland Islands (Islas Malvinas)"
         ],
         "type": "choropleth",
         "z": [
          21168,
          15267,
          8259,
          6655,
          4876,
          1771,
          1319,
          1310,
          1299,
          1297,
          1167,
          847,
          838,
          725,
          675,
          660,
          623,
          604,
          588,
          541,
          513,
          506,
          500,
          493,
          420,
          418,
          418,
          405,
          398,
          395,
          374,
          366,
          349,
          348,
          341,
          338,
          334,
          321,
          304,
          299,
          297,
          296,
          273,
          272,
          270,
          264,
          263,
          258,
          238,
          235,
          231,
          221,
          220,
          220,
          216,
          212,
          210,
          209,
          207,
          203,
          203,
          201,
          199,
          198,
          194,
          190,
          189,
          188,
          182,
          180,
          171,
          156,
          153,
          149,
          148,
          146,
          141,
          139,
          138,
          137,
          135,
          133,
          131,
          130,
          128,
          126,
          118,
          118,
          115,
          113,
          112,
          110,
          110,
          108,
          107,
          105,
          103,
          103,
          100,
          98,
          98,
          96,
          94,
          94,
          94,
          92,
          92,
          92,
          91,
          88,
          88,
          86,
          84,
          83,
          82,
          82,
          82,
          82,
          81,
          80,
          79,
          78,
          76,
          75,
          74,
          73,
          73,
          72,
          71,
          71,
          70,
          70,
          69,
          69,
          68,
          66,
          64,
          64,
          62,
          61,
          57,
          57,
          57,
          53,
          50,
          50,
          49,
          49,
          49,
          49,
          48,
          47,
          47,
          46,
          46,
          44,
          44,
          43,
          41,
          40,
          36,
          36,
          35,
          35,
          35,
          33,
          32,
          32,
          31,
          29,
          29,
          29,
          26,
          24,
          23,
          23,
          23,
          23,
          22,
          22,
          20,
          19,
          19,
          18,
          17,
          17,
          16,
          16,
          16,
          15,
          15,
          15,
          14,
          14,
          14,
          13,
          13,
          12,
          11,
          10,
          9,
          9,
          8,
          8,
          6,
          6,
          4,
          3,
          3,
          3,
          3,
          3,
          3,
          3,
          2,
          2,
          1,
          0,
          0
         ]
        }
       ],
       "layout": {
        "annotations": [
         {
          "showarrow": false,
          "text": "Source: <a href=\"https://github.com/factbook/factbook.sql/releases\">            Factbook</a>",
          "x": 0.55,
          "xref": "paper",
          "y": 0.1,
          "yref": "paper"
         }
        ],
        "geo": {
         "projection": {
          "type": "equirectangular"
         },
         "showcoastlines": false,
         "showframe": false
        },
        "template": {
         "data": {
          "bar": [
           {
            "error_x": {
             "color": "#2a3f5f"
            },
            "error_y": {
             "color": "#2a3f5f"
            },
            "marker": {
             "line": {
              "color": "#E5ECF6",
              "width": 0.5
             }
            },
            "type": "bar"
           }
          ],
          "barpolar": [
           {
            "marker": {
             "line": {
              "color": "#E5ECF6",
              "width": 0.5
             }
            },
            "type": "barpolar"
           }
          ],
          "carpet": [
           {
            "aaxis": {
             "endlinecolor": "#2a3f5f",
             "gridcolor": "white",
             "linecolor": "white",
             "minorgridcolor": "white",
             "startlinecolor": "#2a3f5f"
            },
            "baxis": {
             "endlinecolor": "#2a3f5f",
             "gridcolor": "white",
             "linecolor": "white",
             "minorgridcolor": "white",
             "startlinecolor": "#2a3f5f"
            },
            "type": "carpet"
           }
          ],
          "choropleth": [
           {
            "colorbar": {
             "outlinewidth": 0,
             "ticks": ""
            },
            "type": "choropleth"
           }
          ],
          "contour": [
           {
            "colorbar": {
             "outlinewidth": 0,
             "ticks": ""
            },
            "colorscale": [
             [
              0,
              "#0d0887"
             ],
             [
              0.1111111111111111,
              "#46039f"
             ],
             [
              0.2222222222222222,
              "#7201a8"
             ],
             [
              0.3333333333333333,
              "#9c179e"
             ],
             [
              0.4444444444444444,
              "#bd3786"
             ],
             [
              0.5555555555555556,
              "#d8576b"
             ],
             [
              0.6666666666666666,
              "#ed7953"
             ],
             [
              0.7777777777777778,
              "#fb9f3a"
             ],
             [
              0.8888888888888888,
              "#fdca26"
             ],
             [
              1,
              "#f0f921"
             ]
            ],
            "type": "contour"
           }
          ],
          "contourcarpet": [
           {
            "colorbar": {
             "outlinewidth": 0,
             "ticks": ""
            },
            "type": "contourcarpet"
           }
          ],
          "heatmap": [
           {
            "colorbar": {
             "outlinewidth": 0,
             "ticks": ""
            },
            "colorscale": [
             [
              0,
              "#0d0887"
             ],
             [
              0.1111111111111111,
              "#46039f"
             ],
             [
              0.2222222222222222,
              "#7201a8"
             ],
             [
              0.3333333333333333,
              "#9c179e"
             ],
             [
              0.4444444444444444,
              "#bd3786"
             ],
             [
              0.5555555555555556,
              "#d8576b"
             ],
             [
              0.6666666666666666,
              "#ed7953"
             ],
             [
              0.7777777777777778,
              "#fb9f3a"
             ],
             [
              0.8888888888888888,
              "#fdca26"
             ],
             [
              1,
              "#f0f921"
             ]
            ],
            "type": "heatmap"
           }
          ],
          "heatmapgl": [
           {
            "colorbar": {
             "outlinewidth": 0,
             "ticks": ""
            },
            "colorscale": [
             [
              0,
              "#0d0887"
             ],
             [
              0.1111111111111111,
              "#46039f"
             ],
             [
              0.2222222222222222,
              "#7201a8"
             ],
             [
              0.3333333333333333,
              "#9c179e"
             ],
             [
              0.4444444444444444,
              "#bd3786"
             ],
             [
              0.5555555555555556,
              "#d8576b"
             ],
             [
              0.6666666666666666,
              "#ed7953"
             ],
             [
              0.7777777777777778,
              "#fb9f3a"
             ],
             [
              0.8888888888888888,
              "#fdca26"
             ],
             [
              1,
              "#f0f921"
             ]
            ],
            "type": "heatmapgl"
           }
          ],
          "histogram": [
           {
            "marker": {
             "colorbar": {
              "outlinewidth": 0,
              "ticks": ""
             }
            },
            "type": "histogram"
           }
          ],
          "histogram2d": [
           {
            "colorbar": {
             "outlinewidth": 0,
             "ticks": ""
            },
            "colorscale": [
             [
              0,
              "#0d0887"
             ],
             [
              0.1111111111111111,
              "#46039f"
             ],
             [
              0.2222222222222222,
              "#7201a8"
             ],
             [
              0.3333333333333333,
              "#9c179e"
             ],
             [
              0.4444444444444444,
              "#bd3786"
             ],
             [
              0.5555555555555556,
              "#d8576b"
             ],
             [
              0.6666666666666666,
              "#ed7953"
             ],
             [
              0.7777777777777778,
              "#fb9f3a"
             ],
             [
              0.8888888888888888,
              "#fdca26"
             ],
             [
              1,
              "#f0f921"
             ]
            ],
            "type": "histogram2d"
           }
          ],
          "histogram2dcontour": [
           {
            "colorbar": {
             "outlinewidth": 0,
             "ticks": ""
            },
            "colorscale": [
             [
              0,
              "#0d0887"
             ],
             [
              0.1111111111111111,
              "#46039f"
             ],
             [
              0.2222222222222222,
              "#7201a8"
             ],
             [
              0.3333333333333333,
              "#9c179e"
             ],
             [
              0.4444444444444444,
              "#bd3786"
             ],
             [
              0.5555555555555556,
              "#d8576b"
             ],
             [
              0.6666666666666666,
              "#ed7953"
             ],
             [
              0.7777777777777778,
              "#fb9f3a"
             ],
             [
              0.8888888888888888,
              "#fdca26"
             ],
             [
              1,
              "#f0f921"
             ]
            ],
            "type": "histogram2dcontour"
           }
          ],
          "mesh3d": [
           {
            "colorbar": {
             "outlinewidth": 0,
             "ticks": ""
            },
            "type": "mesh3d"
           }
          ],
          "parcoords": [
           {
            "line": {
             "colorbar": {
              "outlinewidth": 0,
              "ticks": ""
             }
            },
            "type": "parcoords"
           }
          ],
          "scatter": [
           {
            "marker": {
             "colorbar": {
              "outlinewidth": 0,
              "ticks": ""
             }
            },
            "type": "scatter"
           }
          ],
          "scatter3d": [
           {
            "line": {
             "colorbar": {
              "outlinewidth": 0,
              "ticks": ""
             }
            },
            "marker": {
             "colorbar": {
              "outlinewidth": 0,
              "ticks": ""
             }
            },
            "type": "scatter3d"
           }
          ],
          "scattercarpet": [
           {
            "marker": {
             "colorbar": {
              "outlinewidth": 0,
              "ticks": ""
             }
            },
            "type": "scattercarpet"
           }
          ],
          "scattergeo": [
           {
            "marker": {
             "colorbar": {
              "outlinewidth": 0,
              "ticks": ""
             }
            },
            "type": "scattergeo"
           }
          ],
          "scattergl": [
           {
            "marker": {
             "colorbar": {
              "outlinewidth": 0,
              "ticks": ""
             }
            },
            "type": "scattergl"
           }
          ],
          "scattermapbox": [
           {
            "marker": {
             "colorbar": {
              "outlinewidth": 0,
              "ticks": ""
             }
            },
            "type": "scattermapbox"
           }
          ],
          "scatterpolar": [
           {
            "marker": {
             "colorbar": {
              "outlinewidth": 0,
              "ticks": ""
             }
            },
            "type": "scatterpolar"
           }
          ],
          "scatterpolargl": [
           {
            "marker": {
             "colorbar": {
              "outlinewidth": 0,
              "ticks": ""
             }
            },
            "type": "scatterpolargl"
           }
          ],
          "scatterternary": [
           {
            "marker": {
             "colorbar": {
              "outlinewidth": 0,
              "ticks": ""
             }
            },
            "type": "scatterternary"
           }
          ],
          "surface": [
           {
            "colorbar": {
             "outlinewidth": 0,
             "ticks": ""
            },
            "colorscale": [
             [
              0,
              "#0d0887"
             ],
             [
              0.1111111111111111,
              "#46039f"
             ],
             [
              0.2222222222222222,
              "#7201a8"
             ],
             [
              0.3333333333333333,
              "#9c179e"
             ],
             [
              0.4444444444444444,
              "#bd3786"
             ],
             [
              0.5555555555555556,
              "#d8576b"
             ],
             [
              0.6666666666666666,
              "#ed7953"
             ],
             [
              0.7777777777777778,
              "#fb9f3a"
             ],
             [
              0.8888888888888888,
              "#fdca26"
             ],
             [
              1,
              "#f0f921"
             ]
            ],
            "type": "surface"
           }
          ],
          "table": [
           {
            "cells": {
             "fill": {
              "color": "#EBF0F8"
             },
             "line": {
              "color": "white"
             }
            },
            "header": {
             "fill": {
              "color": "#C8D4E3"
             },
             "line": {
              "color": "white"
             }
            },
            "type": "table"
           }
          ]
         },
         "layout": {
          "annotationdefaults": {
           "arrowcolor": "#2a3f5f",
           "arrowhead": 0,
           "arrowwidth": 1
          },
          "colorscale": {
           "diverging": [
            [
             0,
             "#8e0152"
            ],
            [
             0.1,
             "#c51b7d"
            ],
            [
             0.2,
             "#de77ae"
            ],
            [
             0.3,
             "#f1b6da"
            ],
            [
             0.4,
             "#fde0ef"
            ],
            [
             0.5,
             "#f7f7f7"
            ],
            [
             0.6,
             "#e6f5d0"
            ],
            [
             0.7,
             "#b8e186"
            ],
            [
             0.8,
             "#7fbc41"
            ],
            [
             0.9,
             "#4d9221"
            ],
            [
             1,
             "#276419"
            ]
           ],
           "sequential": [
            [
             0,
             "#0d0887"
            ],
            [
             0.1111111111111111,
             "#46039f"
            ],
            [
             0.2222222222222222,
             "#7201a8"
            ],
            [
             0.3333333333333333,
             "#9c179e"
            ],
            [
             0.4444444444444444,
             "#bd3786"
            ],
            [
             0.5555555555555556,
             "#d8576b"
            ],
            [
             0.6666666666666666,
             "#ed7953"
            ],
            [
             0.7777777777777778,
             "#fb9f3a"
            ],
            [
             0.8888888888888888,
             "#fdca26"
            ],
            [
             1,
             "#f0f921"
            ]
           ],
           "sequentialminus": [
            [
             0,
             "#0d0887"
            ],
            [
             0.1111111111111111,
             "#46039f"
            ],
            [
             0.2222222222222222,
             "#7201a8"
            ],
            [
             0.3333333333333333,
             "#9c179e"
            ],
            [
             0.4444444444444444,
             "#bd3786"
            ],
            [
             0.5555555555555556,
             "#d8576b"
            ],
            [
             0.6666666666666666,
             "#ed7953"
            ],
            [
             0.7777777777777778,
             "#fb9f3a"
            ],
            [
             0.8888888888888888,
             "#fdca26"
            ],
            [
             1,
             "#f0f921"
            ]
           ]
          },
          "colorway": [
           "#636efa",
           "#EF553B",
           "#00cc96",
           "#ab63fa",
           "#FFA15A",
           "#19d3f3",
           "#FF6692",
           "#B6E880",
           "#FF97FF",
           "#FECB52"
          ],
          "font": {
           "color": "#2a3f5f"
          },
          "geo": {
           "bgcolor": "white",
           "lakecolor": "white",
           "landcolor": "#E5ECF6",
           "showlakes": true,
           "showland": true,
           "subunitcolor": "white"
          },
          "hoverlabel": {
           "align": "left"
          },
          "hovermode": "closest",
          "mapbox": {
           "style": "light"
          },
          "paper_bgcolor": "white",
          "plot_bgcolor": "#E5ECF6",
          "polar": {
           "angularaxis": {
            "gridcolor": "white",
            "linecolor": "white",
            "ticks": ""
           },
           "bgcolor": "#E5ECF6",
           "radialaxis": {
            "gridcolor": "white",
            "linecolor": "white",
            "ticks": ""
           }
          },
          "scene": {
           "xaxis": {
            "backgroundcolor": "#E5ECF6",
            "gridcolor": "white",
            "gridwidth": 2,
            "linecolor": "white",
            "showbackground": true,
            "ticks": "",
            "zerolinecolor": "white"
           },
           "yaxis": {
            "backgroundcolor": "#E5ECF6",
            "gridcolor": "white",
            "gridwidth": 2,
            "linecolor": "white",
            "showbackground": true,
            "ticks": "",
            "zerolinecolor": "white"
           },
           "zaxis": {
            "backgroundcolor": "#E5ECF6",
            "gridcolor": "white",
            "gridwidth": 2,
            "linecolor": "white",
            "showbackground": true,
            "ticks": "",
            "zerolinecolor": "white"
           }
          },
          "shapedefaults": {
           "line": {
            "color": "#2a3f5f"
           }
          },
          "ternary": {
           "aaxis": {
            "gridcolor": "white",
            "linecolor": "white",
            "ticks": ""
           },
           "baxis": {
            "gridcolor": "white",
            "linecolor": "white",
            "ticks": ""
           },
           "bgcolor": "#E5ECF6",
           "caxis": {
            "gridcolor": "white",
            "linecolor": "white",
            "ticks": ""
           }
          },
          "title": {
           "x": 0.05
          },
          "xaxis": {
           "automargin": true,
           "gridcolor": "white",
           "linecolor": "white",
           "ticks": "",
           "zerolinecolor": "white",
           "zerolinewidth": 2
          },
          "yaxis": {
           "automargin": true,
           "gridcolor": "white",
           "linecolor": "white",
           "ticks": "",
           "zerolinecolor": "white",
           "zerolinewidth": 2
          }
         }
        },
        "title": {
         "text": "Population Density"
        }
       }
      },
      "text/html": [
       "<div>\n",
       "        \n",
       "        \n",
       "            <div id=\"f9165047-30ac-44a8-91f3-862060e0de7a\" class=\"plotly-graph-div\" style=\"height:525px; width:100%;\"></div>\n",
       "            <script type=\"text/javascript\">\n",
       "                require([\"plotly\"], function(Plotly) {\n",
       "                    window.PLOTLYENV=window.PLOTLYENV || {};\n",
       "                    \n",
       "                if (document.getElementById(\"f9165047-30ac-44a8-91f3-862060e0de7a\")) {\n",
       "                    Plotly.newPlot(\n",
       "                        'f9165047-30ac-44a8-91f3-862060e0de7a',\n",
       "                        [{\"autocolorscale\": false, \"colorscale\": [[0.0, \"rgb(243, 231, 155)\"], [0.16666666666666666, \"rgb(250, 196, 132)\"], [0.3333333333333333, \"rgb(248, 160, 126)\"], [0.5, \"rgb(235, 127, 134)\"], [0.6666666666666666, \"rgb(206, 102, 147)\"], [0.8333333333333334, \"rgb(160, 89, 160)\"], [1.0, \"rgb(92, 83, 165)\"]], \"locations\": [\"MAC\", \"MCO\", \"SGP\", \"HKG\", \"GIB\", \"BHR\", \"MDV\", \"MLT\", \"BMU\", \"BGD\", \"SXM\", \"GGY\", \"JEY\", \"TWN\", \"BRB\", \"MUS\", \"ABW\", \"LBN\", \"MAF\", \"SMR\", \"RWA\", \"KOR\", \"NLD\", \"WBG\", \"IND\", \"BDI\", \"TUV\", \"PRI\", \"MHL\", \"ISR\", \"BEL\", \"HTI\", \"COM\", \"JPN\", \"LKA\", \"PHL\", \"CUW\", \"GRD\", \"VNM\", \"VGB\", \"GUM\", \"SLV\", \"ASM\", \"JAM\", \"LCA\", \"GBR\", \"VCT\", \"PAK\", \"TTO\", \"LIE\", \"DEU\", \"VGB\", \"LUX\", \"NPL\", \"DOM\", \"CYM\", \"ITA\", \"ATG\", \"PRK\", \"SYC\", \"CHE\", \"STP\", \"NGA\", \"KNA\", \"GMB\", \"MWI\", \"QAT\", \"UGA\", \"AND\", \"AIA\", \"KSV\", \"KWT\", \"IMN\", \"FSM\", \"TON\", \"CHN\", \"IDN\", \"GTM\", \"TGO\", \"CZE\", \"CPV\", \"THA\", \"DNK\", \"KIR\", \"CYP\", \"POL\", \"AZE\", \"PRT\", \"GHA\", \"SVK\", \"MNP\", \"ALB\", \"HUN\", \"ARM\", \"MDA\", \"AUT\", \"FRA\", \"TUR\", \"CUB\", \"DMA\", \"SVN\", \"ESP\", \"BEN\", \"CRI\", \"ROU\", \"MYS\", \"SRB\", \"SYR\", \"JOR\", \"KHM\", \"EGY\", \"MMR\", \"IRQ\", \"SWZ\", \"GRC\", \"MKD\", \"SLE\", \"TLS\", \"BRN\", \"KEN\", \"HRV\", \"HND\", \"UKR\", \"BIH\", \"MAR\", \"CIV\", \"PYF\", \"SEN\", \"IRL\", \"TUN\", \"GEO\", \"WSM\", \"BFA\", \"ARE\", \"UZB\", \"BGR\", \"ERI\", \"LSO\", \"MEX\", \"GNB\", \"ECU\", \"TJK\", \"TZA\", \"IRN\", \"CMR\", \"YEM\", \"AFG\", \"FJI\", \"NIC\", \"PAN\", \"MNE\", \"BLR\", \"GIN\", \"LTU\", \"PLW\", \"COL\", \"ZAF\", \"LBR\", \"COK\", \"MDG\", \"ZWE\", \"FRO\", \"COD\", \"DJI\", \"USA\", \"VEN\", \"BHM\", \"MOZ\", \"LVA\", \"EST\", \"KGZ\", \"LAO\", \"GNQ\", \"BRA\", \"CHL\", \"PER\", \"SWE\", \"SPM\", \"SLB\", \"VUT\", \"ZMB\", \"BTN\", \"URY\", \"FIN\", \"NOR\", \"PRY\", \"DZA\", \"NZL\", \"SOM\", \"AGO\", \"ARG\", \"BLZ\", \"NER\", \"PNG\", \"NCL\", \"COG\", \"MLI\", \"SAU\", \"TKM\", \"OMN\", \"BOL\", \"TCD\", \"CAF\", \"RUS\", \"GAB\", \"KAZ\", \"NIU\", \"BWA\", \"CAN\", \"GUY\", \"ISL\", \"LBY\", \"MRT\", \"SUR\", \"AUS\", \"NAM\", \"MNG\", \"GRL\", \"FLK\"], \"marker\": {\"line\": {\"color\": \"darkgray\", \"width\": 0.2}}, \"reversescale\": false, \"showscale\": true, \"text\": [\"Macau\", \"Monaco\", \"Singapore\", \"Hong Kong\", \"Gibraltar\", \"Bahrain\", \"Maldives\", \"Malta\", \"Bermuda\", \"Bangladesh\", \"Sint Maarten\", \"Guernsey\", \"Jersey\", \"Taiwan\", \"Barbados\", \"Mauritius\", \"Aruba\", \"Lebanon\", \"Saint Martin\", \"San Marino\", \"Rwanda\", \"Korea, South\", \"Netherlands\", \"West Bank\", \"India\", \"Burundi\", \"Tuvalu\", \"Puerto Rico\", \"Marshall Islands\", \"Israel\", \"Belgium\", \"Haiti\", \"Comoros\", \"Japan\", \"Sri Lanka\", \"Philippines\", \"Curacao\", \"Grenada\", \"Vietnam\", \"Virgin Islands\", \"Guam\", \"El Salvador\", \"American Samoa\", \"Jamaica\", \"Saint Lucia\", \"United Kingdom\", \"Saint Vincent and the Grenadines\", \"Pakistan\", \"Trinidad and Tobago\", \"Liechtenstein\", \"Germany\", \"British Virgin Islands\", \"Luxembourg\", \"Nepal\", \"Dominican Republic\", \"Cayman Islands\", \"Italy\", \"Antigua and Barbuda\", \"Korea, North\", \"Seychelles\", \"Switzerland\", \"Sao Tome and Principe\", \"Nigeria\", \"Saint Kitts and Nevis\", \"Gambia, The\", \"Malawi\", \"Qatar\", \"Uganda\", \"Andorra\", \"Anguilla\", \"Kosovo\", \"Kuwait\", \"Isle of Man\", \"Micronesia, Federated States of\", \"Tonga\", \"China\", \"Indonesia\", \"Guatemala\", \"Togo\", \"Czech Republic\", \"Cabo Verde\", \"Thailand\", \"Denmark\", \"Kiribati\", \"Cyprus\", \"Poland\", \"Azerbaijan\", \"Portugal\", \"Ghana\", \"Slovakia\", \"Northern Mariana Islands\", \"Albania\", \"Hungary\", \"Armenia\", \"Moldova\", \"Austria\", \"France\", \"Turkey\", \"Cuba\", \"Dominica\", \"Slovenia\", \"Spain\", \"Benin\", \"Costa Rica\", \"Romania\", \"Malaysia\", \"Serbia\", \"Syria\", \"Jordan\", \"Cambodia\", \"Egypt\", \"Burma\", \"Iraq\", \"Swaziland\", \"Greece\", \"Macedonia\", \"Sierra Leone\", \"Timor-Leste\", \"Brunei\", \"Kenya\", \"Croatia\", \"Honduras\", \"Ukraine\", \"Bosnia and Herzegovina\", \"Morocco\", \"Cote d'Ivoire\", \"French Polynesia\", \"Senegal\", \"Ireland\", \"Tunisia\", \"Georgia\", \"Samoa\", \"Burkina Faso\", \"United Arab Emirates\", \"Uzbekistan\", \"Bulgaria\", \"Eritrea\", \"Lesotho\", \"Mexico\", \"Guinea-Bissau\", \"Ecuador\", \"Tajikistan\", \"Tanzania\", \"Iran\", \"Cameroon\", \"Yemen\", \"Afghanistan\", \"Fiji\", \"Nicaragua\", \"Panama\", \"Montenegro\", \"Belarus\", \"Guinea\", \"Lithuania\", \"Palau\", \"Colombia\", \"South Africa\", \"Liberia\", \"Cook Islands\", \"Madagascar\", \"Zimbabwe\", \"Faroe Islands\", \"Congo, Democratic Republic of the\", \"Djibouti\", \"United States\", \"Venezuela\", \"Bahamas, The\", \"Mozambique\", \"Latvia\", \"Estonia\", \"Kyrgyzstan\", \"Laos\", \"Equatorial Guinea\", \"Brazil\", \"Chile\", \"Peru\", \"Sweden\", \"Saint Pierre and Miquelon\", \"Solomon Islands\", \"Vanuatu\", \"Zambia\", \"Bhutan\", \"Uruguay\", \"Finland\", \"Norway\", \"Paraguay\", \"Algeria\", \"New Zealand\", \"Somalia\", \"Angola\", \"Argentina\", \"Belize\", \"Niger\", \"Papua New Guinea\", \"New Caledonia\", \"Congo, Republic of the\", \"Mali\", \"Saudi Arabia\", \"Turkmenistan\", \"Oman\", \"Bolivia\", \"Chad\", \"Central African Republic\", \"Russia\", \"Gabon\", \"Kazakhstan\", \"Niue\", \"Botswana\", \"Canada\", \"Guyana\", \"Iceland\", \"Libya\", \"Mauritania\", \"Suriname\", \"Australia\", \"Namibia\", \"Mongolia\", \"Greenland\", \"Falkland Islands (Islas Malvinas)\"], \"type\": \"choropleth\", \"z\": [21168.0, 15267.0, 8259.0, 6655.0, 4876.0, 1771.0, 1319.0, 1310.0, 1299.0, 1297.0, 1167.0, 847.0, 838.0, 725.0, 675.0, 660.0, 623.0, 604.0, 588.0, 541.0, 513.0, 506.0, 500.0, 493.0, 420.0, 418.0, 418.0, 405.0, 398.0, 395.0, 374.0, 366.0, 349.0, 348.0, 341.0, 338.0, 334.0, 321.0, 304.0, 299.0, 297.0, 296.0, 273.0, 272.0, 270.0, 264.0, 263.0, 258.0, 238.0, 235.0, 231.0, 221.0, 220.0, 220.0, 216.0, 212.0, 210.0, 209.0, 207.0, 203.0, 203.0, 201.0, 199.0, 198.0, 194.0, 190.0, 189.0, 188.0, 182.0, 180.0, 171.0, 156.0, 153.0, 149.0, 148.0, 146.0, 141.0, 139.0, 138.0, 137.0, 135.0, 133.0, 131.0, 130.0, 128.0, 126.0, 118.0, 118.0, 115.0, 113.0, 112.0, 110.0, 110.0, 108.0, 107.0, 105.0, 103.0, 103.0, 100.0, 98.0, 98.0, 96.0, 94.0, 94.0, 94.0, 92.0, 92.0, 92.0, 91.0, 88.0, 88.0, 86.0, 84.0, 83.0, 82.0, 82.0, 82.0, 82.0, 81.0, 80.0, 79.0, 78.0, 76.0, 75.0, 74.0, 73.0, 73.0, 72.0, 71.0, 71.0, 70.0, 70.0, 69.0, 69.0, 68.0, 66.0, 64.0, 64.0, 62.0, 61.0, 57.0, 57.0, 57.0, 53.0, 50.0, 50.0, 49.0, 49.0, 49.0, 49.0, 48.0, 47.0, 47.0, 46.0, 46.0, 44.0, 44.0, 43.0, 41.0, 40.0, 36.0, 36.0, 35.0, 35.0, 35.0, 33.0, 32.0, 32.0, 31.0, 29.0, 29.0, 29.0, 26.0, 24.0, 23.0, 23.0, 23.0, 23.0, 22.0, 22.0, 20.0, 19.0, 19.0, 18.0, 17.0, 17.0, 16.0, 16.0, 16.0, 15.0, 15.0, 15.0, 14.0, 14.0, 14.0, 13.0, 13.0, 12.0, 11.0, 10.0, 9.0, 9.0, 8.0, 8.0, 6.0, 6.0, 4.0, 3.0, 3.0, 3.0, 3.0, 3.0, 3.0, 3.0, 2.0, 2.0, 1.0, 0.0, 0.0]}],\n",
       "                        {\"annotations\": [{\"showarrow\": false, \"text\": \"Source: <a href=\\\"https://github.com/factbook/factbook.sql/releases\\\">            Factbook</a>\", \"x\": 0.55, \"xref\": \"paper\", \"y\": 0.1, \"yref\": \"paper\"}], \"geo\": {\"projection\": {\"type\": \"equirectangular\"}, \"showcoastlines\": false, \"showframe\": false}, \"template\": {\"data\": {\"bar\": [{\"error_x\": {\"color\": \"#2a3f5f\"}, \"error_y\": {\"color\": \"#2a3f5f\"}, \"marker\": {\"line\": {\"color\": \"#E5ECF6\", \"width\": 0.5}}, \"type\": \"bar\"}], \"barpolar\": [{\"marker\": {\"line\": {\"color\": \"#E5ECF6\", \"width\": 0.5}}, \"type\": \"barpolar\"}], \"carpet\": [{\"aaxis\": {\"endlinecolor\": \"#2a3f5f\", \"gridcolor\": \"white\", \"linecolor\": \"white\", \"minorgridcolor\": \"white\", \"startlinecolor\": \"#2a3f5f\"}, \"baxis\": {\"endlinecolor\": \"#2a3f5f\", \"gridcolor\": \"white\", \"linecolor\": \"white\", \"minorgridcolor\": \"white\", \"startlinecolor\": \"#2a3f5f\"}, \"type\": \"carpet\"}], \"choropleth\": [{\"colorbar\": {\"outlinewidth\": 0, \"ticks\": \"\"}, \"type\": \"choropleth\"}], \"contour\": [{\"colorbar\": {\"outlinewidth\": 0, \"ticks\": \"\"}, \"colorscale\": [[0.0, \"#0d0887\"], [0.1111111111111111, \"#46039f\"], [0.2222222222222222, \"#7201a8\"], [0.3333333333333333, \"#9c179e\"], [0.4444444444444444, \"#bd3786\"], [0.5555555555555556, \"#d8576b\"], [0.6666666666666666, \"#ed7953\"], [0.7777777777777778, \"#fb9f3a\"], [0.8888888888888888, \"#fdca26\"], [1.0, \"#f0f921\"]], \"type\": \"contour\"}], \"contourcarpet\": [{\"colorbar\": {\"outlinewidth\": 0, \"ticks\": \"\"}, \"type\": \"contourcarpet\"}], \"heatmap\": [{\"colorbar\": {\"outlinewidth\": 0, \"ticks\": \"\"}, \"colorscale\": [[0.0, \"#0d0887\"], [0.1111111111111111, \"#46039f\"], [0.2222222222222222, \"#7201a8\"], [0.3333333333333333, \"#9c179e\"], [0.4444444444444444, \"#bd3786\"], [0.5555555555555556, \"#d8576b\"], [0.6666666666666666, \"#ed7953\"], [0.7777777777777778, \"#fb9f3a\"], [0.8888888888888888, \"#fdca26\"], [1.0, \"#f0f921\"]], \"type\": \"heatmap\"}], \"heatmapgl\": [{\"colorbar\": {\"outlinewidth\": 0, \"ticks\": \"\"}, \"colorscale\": [[0.0, \"#0d0887\"], [0.1111111111111111, \"#46039f\"], [0.2222222222222222, \"#7201a8\"], [0.3333333333333333, \"#9c179e\"], [0.4444444444444444, \"#bd3786\"], [0.5555555555555556, \"#d8576b\"], [0.6666666666666666, \"#ed7953\"], [0.7777777777777778, \"#fb9f3a\"], [0.8888888888888888, \"#fdca26\"], [1.0, \"#f0f921\"]], \"type\": \"heatmapgl\"}], \"histogram\": [{\"marker\": {\"colorbar\": {\"outlinewidth\": 0, \"ticks\": \"\"}}, \"type\": \"histogram\"}], \"histogram2d\": [{\"colorbar\": {\"outlinewidth\": 0, \"ticks\": \"\"}, \"colorscale\": [[0.0, \"#0d0887\"], [0.1111111111111111, \"#46039f\"], [0.2222222222222222, \"#7201a8\"], [0.3333333333333333, \"#9c179e\"], [0.4444444444444444, \"#bd3786\"], [0.5555555555555556, \"#d8576b\"], [0.6666666666666666, \"#ed7953\"], [0.7777777777777778, \"#fb9f3a\"], [0.8888888888888888, \"#fdca26\"], [1.0, \"#f0f921\"]], \"type\": \"histogram2d\"}], \"histogram2dcontour\": [{\"colorbar\": {\"outlinewidth\": 0, \"ticks\": \"\"}, \"colorscale\": [[0.0, \"#0d0887\"], [0.1111111111111111, \"#46039f\"], [0.2222222222222222, \"#7201a8\"], [0.3333333333333333, \"#9c179e\"], [0.4444444444444444, \"#bd3786\"], [0.5555555555555556, \"#d8576b\"], [0.6666666666666666, \"#ed7953\"], [0.7777777777777778, \"#fb9f3a\"], [0.8888888888888888, \"#fdca26\"], [1.0, \"#f0f921\"]], \"type\": \"histogram2dcontour\"}], \"mesh3d\": [{\"colorbar\": {\"outlinewidth\": 0, \"ticks\": \"\"}, \"type\": \"mesh3d\"}], \"parcoords\": [{\"line\": {\"colorbar\": {\"outlinewidth\": 0, \"ticks\": \"\"}}, \"type\": \"parcoords\"}], \"scatter\": [{\"marker\": {\"colorbar\": {\"outlinewidth\": 0, \"ticks\": \"\"}}, \"type\": \"scatter\"}], \"scatter3d\": [{\"line\": {\"colorbar\": {\"outlinewidth\": 0, \"ticks\": \"\"}}, \"marker\": {\"colorbar\": {\"outlinewidth\": 0, \"ticks\": \"\"}}, \"type\": \"scatter3d\"}], \"scattercarpet\": [{\"marker\": {\"colorbar\": {\"outlinewidth\": 0, \"ticks\": \"\"}}, \"type\": \"scattercarpet\"}], \"scattergeo\": [{\"marker\": {\"colorbar\": {\"outlinewidth\": 0, \"ticks\": \"\"}}, \"type\": \"scattergeo\"}], \"scattergl\": [{\"marker\": {\"colorbar\": {\"outlinewidth\": 0, \"ticks\": \"\"}}, \"type\": \"scattergl\"}], \"scattermapbox\": [{\"marker\": {\"colorbar\": {\"outlinewidth\": 0, \"ticks\": \"\"}}, \"type\": \"scattermapbox\"}], \"scatterpolar\": [{\"marker\": {\"colorbar\": {\"outlinewidth\": 0, \"ticks\": \"\"}}, \"type\": \"scatterpolar\"}], \"scatterpolargl\": [{\"marker\": {\"colorbar\": {\"outlinewidth\": 0, \"ticks\": \"\"}}, \"type\": \"scatterpolargl\"}], \"scatterternary\": [{\"marker\": {\"colorbar\": {\"outlinewidth\": 0, \"ticks\": \"\"}}, \"type\": \"scatterternary\"}], \"surface\": [{\"colorbar\": {\"outlinewidth\": 0, \"ticks\": \"\"}, \"colorscale\": [[0.0, \"#0d0887\"], [0.1111111111111111, \"#46039f\"], [0.2222222222222222, \"#7201a8\"], [0.3333333333333333, \"#9c179e\"], [0.4444444444444444, \"#bd3786\"], [0.5555555555555556, \"#d8576b\"], [0.6666666666666666, \"#ed7953\"], [0.7777777777777778, \"#fb9f3a\"], [0.8888888888888888, \"#fdca26\"], [1.0, \"#f0f921\"]], \"type\": \"surface\"}], \"table\": [{\"cells\": {\"fill\": {\"color\": \"#EBF0F8\"}, \"line\": {\"color\": \"white\"}}, \"header\": {\"fill\": {\"color\": \"#C8D4E3\"}, \"line\": {\"color\": \"white\"}}, \"type\": \"table\"}]}, \"layout\": {\"annotationdefaults\": {\"arrowcolor\": \"#2a3f5f\", \"arrowhead\": 0, \"arrowwidth\": 1}, \"colorscale\": {\"diverging\": [[0, \"#8e0152\"], [0.1, \"#c51b7d\"], [0.2, \"#de77ae\"], [0.3, \"#f1b6da\"], [0.4, \"#fde0ef\"], [0.5, \"#f7f7f7\"], [0.6, \"#e6f5d0\"], [0.7, \"#b8e186\"], [0.8, \"#7fbc41\"], [0.9, \"#4d9221\"], [1, \"#276419\"]], \"sequential\": [[0.0, \"#0d0887\"], [0.1111111111111111, \"#46039f\"], [0.2222222222222222, \"#7201a8\"], [0.3333333333333333, \"#9c179e\"], [0.4444444444444444, \"#bd3786\"], [0.5555555555555556, \"#d8576b\"], [0.6666666666666666, \"#ed7953\"], [0.7777777777777778, \"#fb9f3a\"], [0.8888888888888888, \"#fdca26\"], [1.0, \"#f0f921\"]], \"sequentialminus\": [[0.0, \"#0d0887\"], [0.1111111111111111, \"#46039f\"], [0.2222222222222222, \"#7201a8\"], [0.3333333333333333, \"#9c179e\"], [0.4444444444444444, \"#bd3786\"], [0.5555555555555556, \"#d8576b\"], [0.6666666666666666, \"#ed7953\"], [0.7777777777777778, \"#fb9f3a\"], [0.8888888888888888, \"#fdca26\"], [1.0, \"#f0f921\"]]}, \"colorway\": [\"#636efa\", \"#EF553B\", \"#00cc96\", \"#ab63fa\", \"#FFA15A\", \"#19d3f3\", \"#FF6692\", \"#B6E880\", \"#FF97FF\", \"#FECB52\"], \"font\": {\"color\": \"#2a3f5f\"}, \"geo\": {\"bgcolor\": \"white\", \"lakecolor\": \"white\", \"landcolor\": \"#E5ECF6\", \"showlakes\": true, \"showland\": true, \"subunitcolor\": \"white\"}, \"hoverlabel\": {\"align\": \"left\"}, \"hovermode\": \"closest\", \"mapbox\": {\"style\": \"light\"}, \"paper_bgcolor\": \"white\", \"plot_bgcolor\": \"#E5ECF6\", \"polar\": {\"angularaxis\": {\"gridcolor\": \"white\", \"linecolor\": \"white\", \"ticks\": \"\"}, \"bgcolor\": \"#E5ECF6\", \"radialaxis\": {\"gridcolor\": \"white\", \"linecolor\": \"white\", \"ticks\": \"\"}}, \"scene\": {\"xaxis\": {\"backgroundcolor\": \"#E5ECF6\", \"gridcolor\": \"white\", \"gridwidth\": 2, \"linecolor\": \"white\", \"showbackground\": true, \"ticks\": \"\", \"zerolinecolor\": \"white\"}, \"yaxis\": {\"backgroundcolor\": \"#E5ECF6\", \"gridcolor\": \"white\", \"gridwidth\": 2, \"linecolor\": \"white\", \"showbackground\": true, \"ticks\": \"\", \"zerolinecolor\": \"white\"}, \"zaxis\": {\"backgroundcolor\": \"#E5ECF6\", \"gridcolor\": \"white\", \"gridwidth\": 2, \"linecolor\": \"white\", \"showbackground\": true, \"ticks\": \"\", \"zerolinecolor\": \"white\"}}, \"shapedefaults\": {\"line\": {\"color\": \"#2a3f5f\"}}, \"ternary\": {\"aaxis\": {\"gridcolor\": \"white\", \"linecolor\": \"white\", \"ticks\": \"\"}, \"baxis\": {\"gridcolor\": \"white\", \"linecolor\": \"white\", \"ticks\": \"\"}, \"bgcolor\": \"#E5ECF6\", \"caxis\": {\"gridcolor\": \"white\", \"linecolor\": \"white\", \"ticks\": \"\"}}, \"title\": {\"x\": 0.05}, \"xaxis\": {\"automargin\": true, \"gridcolor\": \"white\", \"linecolor\": \"white\", \"ticks\": \"\", \"zerolinecolor\": \"white\", \"zerolinewidth\": 2}, \"yaxis\": {\"automargin\": true, \"gridcolor\": \"white\", \"linecolor\": \"white\", \"ticks\": \"\", \"zerolinecolor\": \"white\", \"zerolinewidth\": 2}}}, \"title\": {\"text\": \"Population Density\"}},\n",
       "                        {\"responsive\": true}\n",
       "                    ).then(function(){\n",
       "                            \n",
       "var gd = document.getElementById('f9165047-30ac-44a8-91f3-862060e0de7a');\n",
       "var x = new MutationObserver(function (mutations, observer) {{\n",
       "        var display = window.getComputedStyle(gd).display;\n",
       "        if (!display || display === 'none') {{\n",
       "            console.log([gd, 'removed!']);\n",
       "            Plotly.purge(gd);\n",
       "            observer.disconnect();\n",
       "        }}\n",
       "}});\n",
       "\n",
       "// Listen for the removal of the full notebook cells\n",
       "var notebookContainer = gd.closest('#notebook-container');\n",
       "if (notebookContainer) {{\n",
       "    x.observe(notebookContainer, {childList: true});\n",
       "}}\n",
       "\n",
       "// Listen for the clearing of the current output cell\n",
       "var outputEl = gd.closest('.output');\n",
       "if (outputEl) {{\n",
       "    x.observe(outputEl, {childList: true});\n",
       "}}\n",
       "\n",
       "                        })\n",
       "                };\n",
       "                });\n",
       "            </script>\n",
       "        </div>"
      ]
     },
     "metadata": {},
     "output_type": "display_data"
    }
   ],
   "source": [
    "import plotly.graph_objects as go\n",
    "import numpy as np\n",
    "from plotly.offline import download_plotlyjs, init_notebook_mode, iplot\n",
    "init_notebook_mode(connected=True)\n",
    "\n",
    "fig = go.Figure(data=go.Choropleth(\n",
    "    locations = df['CODE'],\n",
    "    z = df['density'],\n",
    "    text = df['name'],\n",
    "    colorscale = 'sunset', \n",
    "    autocolorscale=False,\n",
    "#     tick0 = '1',\n",
    "    showscale=True,\n",
    "    reversescale=False,\n",
    "    marker_line_color='darkgray',\n",
    "    marker_line_width=0.2,\n",
    "    #colorbar_title = 'Universities in top 500',\n",
    "    #hovertext = countries['COUNTRY'] + countries['SCHOOLS'],\n",
    "))\n",
    "\n",
    "fig.update_layout(\n",
    "    title_text='Population Density',\n",
    "    geo=dict(\n",
    "        showframe=False,\n",
    "        showcoastlines=False,\n",
    "        projection_type='equirectangular'\n",
    "    ),\n",
    "    annotations = [dict(\n",
    "        x=0.55,\n",
    "        y=0.1,\n",
    "        xref='paper',\n",
    "        yref='paper',\n",
    "        text='Source: <a href=\"https://github.com/factbook/factbook.sql/releases\">\\\n",
    "            Factbook</a>',\n",
    "        showarrow = False\n",
    "    )]\n",
    ")\n",
    "\n",
    "# fig.show()\n",
    "iplot(fig)"
   ]
  },
  {
   "cell_type": "markdown",
   "metadata": {
    "collapsed": true
   },
   "source": [
    "#### From the above model, we can see that everything looks the same.  Let's fix this problem by ridding the dataset of the city-states with large population densities that lie in the extreme.  We'll start with Bangladesh -- a sizable country with the largest population density.  "
   ]
  },
  {
   "cell_type": "code",
   "execution_count": 10,
   "metadata": {},
   "outputs": [
    {
     "name": "stdout",
     "output_type": "stream",
     "text": [
      "            name density CODE\n",
      "9     Bangladesh    1297  BGD\n",
      "10  Sint Maarten    1167  SXM\n",
      "11      Guernsey     847  GGY\n",
      "12        Jersey     838  JEY\n",
      "13        Taiwan     725  TWN\n",
      "14      Barbados     675  BRB\n",
      "15     Mauritius     660  MUS\n",
      "16         Aruba     623  ABW\n",
      "17       Lebanon     604  LBN\n",
      "18  Saint Martin     588  MAF\n",
      "19    San Marino     541  SMR\n",
      "20        Rwanda     513  RWA\n",
      "21  Korea, South     506  KOR\n",
      "22   Netherlands     500  NLD\n",
      "23     West Bank     493  WBG\n"
     ]
    }
   ],
   "source": [
    "# Bangladesh index starts at 9\n",
    "try:\n",
    "    df = df.drop(range(0,9))\n",
    "except ValueError:\n",
    "    print(\"Already cleaned!\")\n",
    "print(df.head(15))"
   ]
  },
  {
   "cell_type": "code",
   "execution_count": 12,
   "metadata": {},
   "outputs": [
    {
     "data": {
      "text/html": [
       "        <script type=\"text/javascript\">\n",
       "        window.PlotlyConfig = {MathJaxConfig: 'local'};\n",
       "        if (window.MathJax) {MathJax.Hub.Config({SVG: {font: \"STIX-Web\"}});}\n",
       "        if (typeof require !== 'undefined') {\n",
       "        require.undef(\"plotly\");\n",
       "        requirejs.config({\n",
       "            paths: {\n",
       "                'plotly': ['https://cdn.plot.ly/plotly-latest.min']\n",
       "            }\n",
       "        });\n",
       "        require(['plotly'], function(Plotly) {\n",
       "            window._Plotly = Plotly;\n",
       "        });\n",
       "        }\n",
       "        </script>\n",
       "        "
      ]
     },
     "metadata": {},
     "output_type": "display_data"
    },
    {
     "data": {
      "application/vnd.plotly.v1+json": {
       "config": {
        "linkText": "Export to plot.ly",
        "plotlyServerURL": "https://plot.ly",
        "showLink": false
       },
       "data": [
        {
         "autocolorscale": false,
         "colorbar": {
          "title": {
           "text": "Density ppl/km^2"
          }
         },
         "colorscale": [
          [
           0,
           "rgb(243, 231, 155)"
          ],
          [
           0.16666666666666666,
           "rgb(250, 196, 132)"
          ],
          [
           0.3333333333333333,
           "rgb(248, 160, 126)"
          ],
          [
           0.5,
           "rgb(235, 127, 134)"
          ],
          [
           0.6666666666666666,
           "rgb(206, 102, 147)"
          ],
          [
           0.8333333333333334,
           "rgb(160, 89, 160)"
          ],
          [
           1,
           "rgb(92, 83, 165)"
          ]
         ],
         "locations": [
          "BGD",
          "SXM",
          "GGY",
          "JEY",
          "TWN",
          "BRB",
          "MUS",
          "ABW",
          "LBN",
          "MAF",
          "SMR",
          "RWA",
          "KOR",
          "NLD",
          "WBG",
          "IND",
          "BDI",
          "TUV",
          "PRI",
          "MHL",
          "ISR",
          "BEL",
          "HTI",
          "COM",
          "JPN",
          "LKA",
          "PHL",
          "CUW",
          "GRD",
          "VNM",
          "VGB",
          "GUM",
          "SLV",
          "ASM",
          "JAM",
          "LCA",
          "GBR",
          "VCT",
          "PAK",
          "TTO",
          "LIE",
          "DEU",
          "VGB",
          "LUX",
          "NPL",
          "DOM",
          "CYM",
          "ITA",
          "ATG",
          "PRK",
          "SYC",
          "CHE",
          "STP",
          "NGA",
          "KNA",
          "GMB",
          "MWI",
          "QAT",
          "UGA",
          "AND",
          "AIA",
          "KSV",
          "KWT",
          "IMN",
          "FSM",
          "TON",
          "CHN",
          "IDN",
          "GTM",
          "TGO",
          "CZE",
          "CPV",
          "THA",
          "DNK",
          "KIR",
          "CYP",
          "POL",
          "AZE",
          "PRT",
          "GHA",
          "SVK",
          "MNP",
          "ALB",
          "HUN",
          "ARM",
          "MDA",
          "AUT",
          "FRA",
          "TUR",
          "CUB",
          "DMA",
          "SVN",
          "ESP",
          "BEN",
          "CRI",
          "ROU",
          "MYS",
          "SRB",
          "SYR",
          "JOR",
          "KHM",
          "EGY",
          "MMR",
          "IRQ",
          "SWZ",
          "GRC",
          "MKD",
          "SLE",
          "TLS",
          "BRN",
          "KEN",
          "HRV",
          "HND",
          "UKR",
          "BIH",
          "MAR",
          "CIV",
          "PYF",
          "SEN",
          "IRL",
          "TUN",
          "GEO",
          "WSM",
          "BFA",
          "ARE",
          "UZB",
          "BGR",
          "ERI",
          "LSO",
          "MEX",
          "GNB",
          "ECU",
          "TJK",
          "TZA",
          "IRN",
          "CMR",
          "YEM",
          "AFG",
          "FJI",
          "NIC",
          "PAN",
          "MNE",
          "BLR",
          "GIN",
          "LTU",
          "PLW",
          "COL",
          "ZAF",
          "LBR",
          "COK",
          "MDG",
          "ZWE",
          "FRO",
          "COD",
          "DJI",
          "USA",
          "VEN",
          "BHM",
          "MOZ",
          "LVA",
          "EST",
          "KGZ",
          "LAO",
          "GNQ",
          "BRA",
          "CHL",
          "PER",
          "SWE",
          "SPM",
          "SLB",
          "VUT",
          "ZMB",
          "BTN",
          "URY",
          "FIN",
          "NOR",
          "PRY",
          "DZA",
          "NZL",
          "SOM",
          "AGO",
          "ARG",
          "BLZ",
          "NER",
          "PNG",
          "NCL",
          "COG",
          "MLI",
          "SAU",
          "TKM",
          "OMN",
          "BOL",
          "TCD",
          "CAF",
          "RUS",
          "GAB",
          "KAZ",
          "NIU",
          "BWA",
          "CAN",
          "GUY",
          "ISL",
          "LBY",
          "MRT",
          "SUR",
          "AUS",
          "NAM",
          "MNG",
          "GRL",
          "FLK"
         ],
         "marker": {
          "line": {
           "color": "darkgray",
           "width": 0.2
          }
         },
         "reversescale": false,
         "showscale": true,
         "text": [
          "Bangladesh",
          "Sint Maarten",
          "Guernsey",
          "Jersey",
          "Taiwan",
          "Barbados",
          "Mauritius",
          "Aruba",
          "Lebanon",
          "Saint Martin",
          "San Marino",
          "Rwanda",
          "Korea, South",
          "Netherlands",
          "West Bank",
          "India",
          "Burundi",
          "Tuvalu",
          "Puerto Rico",
          "Marshall Islands",
          "Israel",
          "Belgium",
          "Haiti",
          "Comoros",
          "Japan",
          "Sri Lanka",
          "Philippines",
          "Curacao",
          "Grenada",
          "Vietnam",
          "Virgin Islands",
          "Guam",
          "El Salvador",
          "American Samoa",
          "Jamaica",
          "Saint Lucia",
          "United Kingdom",
          "Saint Vincent and the Grenadines",
          "Pakistan",
          "Trinidad and Tobago",
          "Liechtenstein",
          "Germany",
          "British Virgin Islands",
          "Luxembourg",
          "Nepal",
          "Dominican Republic",
          "Cayman Islands",
          "Italy",
          "Antigua and Barbuda",
          "Korea, North",
          "Seychelles",
          "Switzerland",
          "Sao Tome and Principe",
          "Nigeria",
          "Saint Kitts and Nevis",
          "Gambia, The",
          "Malawi",
          "Qatar",
          "Uganda",
          "Andorra",
          "Anguilla",
          "Kosovo",
          "Kuwait",
          "Isle of Man",
          "Micronesia, Federated States of",
          "Tonga",
          "China",
          "Indonesia",
          "Guatemala",
          "Togo",
          "Czech Republic",
          "Cabo Verde",
          "Thailand",
          "Denmark",
          "Kiribati",
          "Cyprus",
          "Poland",
          "Azerbaijan",
          "Portugal",
          "Ghana",
          "Slovakia",
          "Northern Mariana Islands",
          "Albania",
          "Hungary",
          "Armenia",
          "Moldova",
          "Austria",
          "France",
          "Turkey",
          "Cuba",
          "Dominica",
          "Slovenia",
          "Spain",
          "Benin",
          "Costa Rica",
          "Romania",
          "Malaysia",
          "Serbia",
          "Syria",
          "Jordan",
          "Cambodia",
          "Egypt",
          "Burma",
          "Iraq",
          "Swaziland",
          "Greece",
          "Macedonia",
          "Sierra Leone",
          "Timor-Leste",
          "Brunei",
          "Kenya",
          "Croatia",
          "Honduras",
          "Ukraine",
          "Bosnia and Herzegovina",
          "Morocco",
          "Cote d'Ivoire",
          "French Polynesia",
          "Senegal",
          "Ireland",
          "Tunisia",
          "Georgia",
          "Samoa",
          "Burkina Faso",
          "United Arab Emirates",
          "Uzbekistan",
          "Bulgaria",
          "Eritrea",
          "Lesotho",
          "Mexico",
          "Guinea-Bissau",
          "Ecuador",
          "Tajikistan",
          "Tanzania",
          "Iran",
          "Cameroon",
          "Yemen",
          "Afghanistan",
          "Fiji",
          "Nicaragua",
          "Panama",
          "Montenegro",
          "Belarus",
          "Guinea",
          "Lithuania",
          "Palau",
          "Colombia",
          "South Africa",
          "Liberia",
          "Cook Islands",
          "Madagascar",
          "Zimbabwe",
          "Faroe Islands",
          "Congo, Democratic Republic of the",
          "Djibouti",
          "United States",
          "Venezuela",
          "Bahamas, The",
          "Mozambique",
          "Latvia",
          "Estonia",
          "Kyrgyzstan",
          "Laos",
          "Equatorial Guinea",
          "Brazil",
          "Chile",
          "Peru",
          "Sweden",
          "Saint Pierre and Miquelon",
          "Solomon Islands",
          "Vanuatu",
          "Zambia",
          "Bhutan",
          "Uruguay",
          "Finland",
          "Norway",
          "Paraguay",
          "Algeria",
          "New Zealand",
          "Somalia",
          "Angola",
          "Argentina",
          "Belize",
          "Niger",
          "Papua New Guinea",
          "New Caledonia",
          "Congo, Republic of the",
          "Mali",
          "Saudi Arabia",
          "Turkmenistan",
          "Oman",
          "Bolivia",
          "Chad",
          "Central African Republic",
          "Russia",
          "Gabon",
          "Kazakhstan",
          "Niue",
          "Botswana",
          "Canada",
          "Guyana",
          "Iceland",
          "Libya",
          "Mauritania",
          "Suriname",
          "Australia",
          "Namibia",
          "Mongolia",
          "Greenland",
          "Falkland Islands (Islas Malvinas)"
         ],
         "type": "choropleth",
         "z": [
          1297,
          1167,
          847,
          838,
          725,
          675,
          660,
          623,
          604,
          588,
          541,
          513,
          506,
          500,
          493,
          420,
          418,
          418,
          405,
          398,
          395,
          374,
          366,
          349,
          348,
          341,
          338,
          334,
          321,
          304,
          299,
          297,
          296,
          273,
          272,
          270,
          264,
          263,
          258,
          238,
          235,
          231,
          221,
          220,
          220,
          216,
          212,
          210,
          209,
          207,
          203,
          203,
          201,
          199,
          198,
          194,
          190,
          189,
          188,
          182,
          180,
          171,
          156,
          153,
          149,
          148,
          146,
          141,
          139,
          138,
          137,
          135,
          133,
          131,
          130,
          128,
          126,
          118,
          118,
          115,
          113,
          112,
          110,
          110,
          108,
          107,
          105,
          103,
          103,
          100,
          98,
          98,
          96,
          94,
          94,
          94,
          92,
          92,
          92,
          91,
          88,
          88,
          86,
          84,
          83,
          82,
          82,
          82,
          82,
          81,
          80,
          79,
          78,
          76,
          75,
          74,
          73,
          73,
          72,
          71,
          71,
          70,
          70,
          69,
          69,
          68,
          66,
          64,
          64,
          62,
          61,
          57,
          57,
          57,
          53,
          50,
          50,
          49,
          49,
          49,
          49,
          48,
          47,
          47,
          46,
          46,
          44,
          44,
          43,
          41,
          40,
          36,
          36,
          35,
          35,
          35,
          33,
          32,
          32,
          31,
          29,
          29,
          29,
          26,
          24,
          23,
          23,
          23,
          23,
          22,
          22,
          20,
          19,
          19,
          18,
          17,
          17,
          16,
          16,
          16,
          15,
          15,
          15,
          14,
          14,
          14,
          13,
          13,
          12,
          11,
          10,
          9,
          9,
          8,
          8,
          6,
          6,
          4,
          3,
          3,
          3,
          3,
          3,
          3,
          3,
          2,
          2,
          1,
          0,
          0
         ]
        }
       ],
       "layout": {
        "annotations": [
         {
          "showarrow": false,
          "text": "Source: <a href=\"https://github.com/factbook/factbook.sql/releases\">            Factbook</a>",
          "x": 0.55,
          "xref": "paper",
          "y": 0.1,
          "yref": "paper"
         }
        ],
        "geo": {
         "projection": {
          "type": "equirectangular"
         },
         "showcoastlines": false,
         "showframe": false
        },
        "template": {
         "data": {
          "bar": [
           {
            "error_x": {
             "color": "#2a3f5f"
            },
            "error_y": {
             "color": "#2a3f5f"
            },
            "marker": {
             "line": {
              "color": "#E5ECF6",
              "width": 0.5
             }
            },
            "type": "bar"
           }
          ],
          "barpolar": [
           {
            "marker": {
             "line": {
              "color": "#E5ECF6",
              "width": 0.5
             }
            },
            "type": "barpolar"
           }
          ],
          "carpet": [
           {
            "aaxis": {
             "endlinecolor": "#2a3f5f",
             "gridcolor": "white",
             "linecolor": "white",
             "minorgridcolor": "white",
             "startlinecolor": "#2a3f5f"
            },
            "baxis": {
             "endlinecolor": "#2a3f5f",
             "gridcolor": "white",
             "linecolor": "white",
             "minorgridcolor": "white",
             "startlinecolor": "#2a3f5f"
            },
            "type": "carpet"
           }
          ],
          "choropleth": [
           {
            "colorbar": {
             "outlinewidth": 0,
             "ticks": ""
            },
            "type": "choropleth"
           }
          ],
          "contour": [
           {
            "colorbar": {
             "outlinewidth": 0,
             "ticks": ""
            },
            "colorscale": [
             [
              0,
              "#0d0887"
             ],
             [
              0.1111111111111111,
              "#46039f"
             ],
             [
              0.2222222222222222,
              "#7201a8"
             ],
             [
              0.3333333333333333,
              "#9c179e"
             ],
             [
              0.4444444444444444,
              "#bd3786"
             ],
             [
              0.5555555555555556,
              "#d8576b"
             ],
             [
              0.6666666666666666,
              "#ed7953"
             ],
             [
              0.7777777777777778,
              "#fb9f3a"
             ],
             [
              0.8888888888888888,
              "#fdca26"
             ],
             [
              1,
              "#f0f921"
             ]
            ],
            "type": "contour"
           }
          ],
          "contourcarpet": [
           {
            "colorbar": {
             "outlinewidth": 0,
             "ticks": ""
            },
            "type": "contourcarpet"
           }
          ],
          "heatmap": [
           {
            "colorbar": {
             "outlinewidth": 0,
             "ticks": ""
            },
            "colorscale": [
             [
              0,
              "#0d0887"
             ],
             [
              0.1111111111111111,
              "#46039f"
             ],
             [
              0.2222222222222222,
              "#7201a8"
             ],
             [
              0.3333333333333333,
              "#9c179e"
             ],
             [
              0.4444444444444444,
              "#bd3786"
             ],
             [
              0.5555555555555556,
              "#d8576b"
             ],
             [
              0.6666666666666666,
              "#ed7953"
             ],
             [
              0.7777777777777778,
              "#fb9f3a"
             ],
             [
              0.8888888888888888,
              "#fdca26"
             ],
             [
              1,
              "#f0f921"
             ]
            ],
            "type": "heatmap"
           }
          ],
          "heatmapgl": [
           {
            "colorbar": {
             "outlinewidth": 0,
             "ticks": ""
            },
            "colorscale": [
             [
              0,
              "#0d0887"
             ],
             [
              0.1111111111111111,
              "#46039f"
             ],
             [
              0.2222222222222222,
              "#7201a8"
             ],
             [
              0.3333333333333333,
              "#9c179e"
             ],
             [
              0.4444444444444444,
              "#bd3786"
             ],
             [
              0.5555555555555556,
              "#d8576b"
             ],
             [
              0.6666666666666666,
              "#ed7953"
             ],
             [
              0.7777777777777778,
              "#fb9f3a"
             ],
             [
              0.8888888888888888,
              "#fdca26"
             ],
             [
              1,
              "#f0f921"
             ]
            ],
            "type": "heatmapgl"
           }
          ],
          "histogram": [
           {
            "marker": {
             "colorbar": {
              "outlinewidth": 0,
              "ticks": ""
             }
            },
            "type": "histogram"
           }
          ],
          "histogram2d": [
           {
            "colorbar": {
             "outlinewidth": 0,
             "ticks": ""
            },
            "colorscale": [
             [
              0,
              "#0d0887"
             ],
             [
              0.1111111111111111,
              "#46039f"
             ],
             [
              0.2222222222222222,
              "#7201a8"
             ],
             [
              0.3333333333333333,
              "#9c179e"
             ],
             [
              0.4444444444444444,
              "#bd3786"
             ],
             [
              0.5555555555555556,
              "#d8576b"
             ],
             [
              0.6666666666666666,
              "#ed7953"
             ],
             [
              0.7777777777777778,
              "#fb9f3a"
             ],
             [
              0.8888888888888888,
              "#fdca26"
             ],
             [
              1,
              "#f0f921"
             ]
            ],
            "type": "histogram2d"
           }
          ],
          "histogram2dcontour": [
           {
            "colorbar": {
             "outlinewidth": 0,
             "ticks": ""
            },
            "colorscale": [
             [
              0,
              "#0d0887"
             ],
             [
              0.1111111111111111,
              "#46039f"
             ],
             [
              0.2222222222222222,
              "#7201a8"
             ],
             [
              0.3333333333333333,
              "#9c179e"
             ],
             [
              0.4444444444444444,
              "#bd3786"
             ],
             [
              0.5555555555555556,
              "#d8576b"
             ],
             [
              0.6666666666666666,
              "#ed7953"
             ],
             [
              0.7777777777777778,
              "#fb9f3a"
             ],
             [
              0.8888888888888888,
              "#fdca26"
             ],
             [
              1,
              "#f0f921"
             ]
            ],
            "type": "histogram2dcontour"
           }
          ],
          "mesh3d": [
           {
            "colorbar": {
             "outlinewidth": 0,
             "ticks": ""
            },
            "type": "mesh3d"
           }
          ],
          "parcoords": [
           {
            "line": {
             "colorbar": {
              "outlinewidth": 0,
              "ticks": ""
             }
            },
            "type": "parcoords"
           }
          ],
          "scatter": [
           {
            "marker": {
             "colorbar": {
              "outlinewidth": 0,
              "ticks": ""
             }
            },
            "type": "scatter"
           }
          ],
          "scatter3d": [
           {
            "line": {
             "colorbar": {
              "outlinewidth": 0,
              "ticks": ""
             }
            },
            "marker": {
             "colorbar": {
              "outlinewidth": 0,
              "ticks": ""
             }
            },
            "type": "scatter3d"
           }
          ],
          "scattercarpet": [
           {
            "marker": {
             "colorbar": {
              "outlinewidth": 0,
              "ticks": ""
             }
            },
            "type": "scattercarpet"
           }
          ],
          "scattergeo": [
           {
            "marker": {
             "colorbar": {
              "outlinewidth": 0,
              "ticks": ""
             }
            },
            "type": "scattergeo"
           }
          ],
          "scattergl": [
           {
            "marker": {
             "colorbar": {
              "outlinewidth": 0,
              "ticks": ""
             }
            },
            "type": "scattergl"
           }
          ],
          "scattermapbox": [
           {
            "marker": {
             "colorbar": {
              "outlinewidth": 0,
              "ticks": ""
             }
            },
            "type": "scattermapbox"
           }
          ],
          "scatterpolar": [
           {
            "marker": {
             "colorbar": {
              "outlinewidth": 0,
              "ticks": ""
             }
            },
            "type": "scatterpolar"
           }
          ],
          "scatterpolargl": [
           {
            "marker": {
             "colorbar": {
              "outlinewidth": 0,
              "ticks": ""
             }
            },
            "type": "scatterpolargl"
           }
          ],
          "scatterternary": [
           {
            "marker": {
             "colorbar": {
              "outlinewidth": 0,
              "ticks": ""
             }
            },
            "type": "scatterternary"
           }
          ],
          "surface": [
           {
            "colorbar": {
             "outlinewidth": 0,
             "ticks": ""
            },
            "colorscale": [
             [
              0,
              "#0d0887"
             ],
             [
              0.1111111111111111,
              "#46039f"
             ],
             [
              0.2222222222222222,
              "#7201a8"
             ],
             [
              0.3333333333333333,
              "#9c179e"
             ],
             [
              0.4444444444444444,
              "#bd3786"
             ],
             [
              0.5555555555555556,
              "#d8576b"
             ],
             [
              0.6666666666666666,
              "#ed7953"
             ],
             [
              0.7777777777777778,
              "#fb9f3a"
             ],
             [
              0.8888888888888888,
              "#fdca26"
             ],
             [
              1,
              "#f0f921"
             ]
            ],
            "type": "surface"
           }
          ],
          "table": [
           {
            "cells": {
             "fill": {
              "color": "#EBF0F8"
             },
             "line": {
              "color": "white"
             }
            },
            "header": {
             "fill": {
              "color": "#C8D4E3"
             },
             "line": {
              "color": "white"
             }
            },
            "type": "table"
           }
          ]
         },
         "layout": {
          "annotationdefaults": {
           "arrowcolor": "#2a3f5f",
           "arrowhead": 0,
           "arrowwidth": 1
          },
          "colorscale": {
           "diverging": [
            [
             0,
             "#8e0152"
            ],
            [
             0.1,
             "#c51b7d"
            ],
            [
             0.2,
             "#de77ae"
            ],
            [
             0.3,
             "#f1b6da"
            ],
            [
             0.4,
             "#fde0ef"
            ],
            [
             0.5,
             "#f7f7f7"
            ],
            [
             0.6,
             "#e6f5d0"
            ],
            [
             0.7,
             "#b8e186"
            ],
            [
             0.8,
             "#7fbc41"
            ],
            [
             0.9,
             "#4d9221"
            ],
            [
             1,
             "#276419"
            ]
           ],
           "sequential": [
            [
             0,
             "#0d0887"
            ],
            [
             0.1111111111111111,
             "#46039f"
            ],
            [
             0.2222222222222222,
             "#7201a8"
            ],
            [
             0.3333333333333333,
             "#9c179e"
            ],
            [
             0.4444444444444444,
             "#bd3786"
            ],
            [
             0.5555555555555556,
             "#d8576b"
            ],
            [
             0.6666666666666666,
             "#ed7953"
            ],
            [
             0.7777777777777778,
             "#fb9f3a"
            ],
            [
             0.8888888888888888,
             "#fdca26"
            ],
            [
             1,
             "#f0f921"
            ]
           ],
           "sequentialminus": [
            [
             0,
             "#0d0887"
            ],
            [
             0.1111111111111111,
             "#46039f"
            ],
            [
             0.2222222222222222,
             "#7201a8"
            ],
            [
             0.3333333333333333,
             "#9c179e"
            ],
            [
             0.4444444444444444,
             "#bd3786"
            ],
            [
             0.5555555555555556,
             "#d8576b"
            ],
            [
             0.6666666666666666,
             "#ed7953"
            ],
            [
             0.7777777777777778,
             "#fb9f3a"
            ],
            [
             0.8888888888888888,
             "#fdca26"
            ],
            [
             1,
             "#f0f921"
            ]
           ]
          },
          "colorway": [
           "#636efa",
           "#EF553B",
           "#00cc96",
           "#ab63fa",
           "#FFA15A",
           "#19d3f3",
           "#FF6692",
           "#B6E880",
           "#FF97FF",
           "#FECB52"
          ],
          "font": {
           "color": "#2a3f5f"
          },
          "geo": {
           "bgcolor": "white",
           "lakecolor": "white",
           "landcolor": "#E5ECF6",
           "showlakes": true,
           "showland": true,
           "subunitcolor": "white"
          },
          "hoverlabel": {
           "align": "left"
          },
          "hovermode": "closest",
          "mapbox": {
           "style": "light"
          },
          "paper_bgcolor": "white",
          "plot_bgcolor": "#E5ECF6",
          "polar": {
           "angularaxis": {
            "gridcolor": "white",
            "linecolor": "white",
            "ticks": ""
           },
           "bgcolor": "#E5ECF6",
           "radialaxis": {
            "gridcolor": "white",
            "linecolor": "white",
            "ticks": ""
           }
          },
          "scene": {
           "xaxis": {
            "backgroundcolor": "#E5ECF6",
            "gridcolor": "white",
            "gridwidth": 2,
            "linecolor": "white",
            "showbackground": true,
            "ticks": "",
            "zerolinecolor": "white"
           },
           "yaxis": {
            "backgroundcolor": "#E5ECF6",
            "gridcolor": "white",
            "gridwidth": 2,
            "linecolor": "white",
            "showbackground": true,
            "ticks": "",
            "zerolinecolor": "white"
           },
           "zaxis": {
            "backgroundcolor": "#E5ECF6",
            "gridcolor": "white",
            "gridwidth": 2,
            "linecolor": "white",
            "showbackground": true,
            "ticks": "",
            "zerolinecolor": "white"
           }
          },
          "shapedefaults": {
           "line": {
            "color": "#2a3f5f"
           }
          },
          "ternary": {
           "aaxis": {
            "gridcolor": "white",
            "linecolor": "white",
            "ticks": ""
           },
           "baxis": {
            "gridcolor": "white",
            "linecolor": "white",
            "ticks": ""
           },
           "bgcolor": "#E5ECF6",
           "caxis": {
            "gridcolor": "white",
            "linecolor": "white",
            "ticks": ""
           }
          },
          "title": {
           "x": 0.05
          },
          "xaxis": {
           "automargin": true,
           "gridcolor": "white",
           "linecolor": "white",
           "ticks": "",
           "zerolinecolor": "white",
           "zerolinewidth": 2
          },
          "yaxis": {
           "automargin": true,
           "gridcolor": "white",
           "linecolor": "white",
           "ticks": "",
           "zerolinecolor": "white",
           "zerolinewidth": 2
          }
         }
        },
        "title": {
         "text": "Population Density"
        }
       }
      },
      "text/html": [
       "<div>\n",
       "        \n",
       "        \n",
       "            <div id=\"af057124-af2c-46ac-b543-1a9babecb3de\" class=\"plotly-graph-div\" style=\"height:525px; width:100%;\"></div>\n",
       "            <script type=\"text/javascript\">\n",
       "                require([\"plotly\"], function(Plotly) {\n",
       "                    window.PLOTLYENV=window.PLOTLYENV || {};\n",
       "                    \n",
       "                if (document.getElementById(\"af057124-af2c-46ac-b543-1a9babecb3de\")) {\n",
       "                    Plotly.newPlot(\n",
       "                        'af057124-af2c-46ac-b543-1a9babecb3de',\n",
       "                        [{\"autocolorscale\": false, \"colorbar\": {\"title\": {\"text\": \"Density ppl/km^2\"}}, \"colorscale\": [[0.0, \"rgb(243, 231, 155)\"], [0.16666666666666666, \"rgb(250, 196, 132)\"], [0.3333333333333333, \"rgb(248, 160, 126)\"], [0.5, \"rgb(235, 127, 134)\"], [0.6666666666666666, \"rgb(206, 102, 147)\"], [0.8333333333333334, \"rgb(160, 89, 160)\"], [1.0, \"rgb(92, 83, 165)\"]], \"locations\": [\"BGD\", \"SXM\", \"GGY\", \"JEY\", \"TWN\", \"BRB\", \"MUS\", \"ABW\", \"LBN\", \"MAF\", \"SMR\", \"RWA\", \"KOR\", \"NLD\", \"WBG\", \"IND\", \"BDI\", \"TUV\", \"PRI\", \"MHL\", \"ISR\", \"BEL\", \"HTI\", \"COM\", \"JPN\", \"LKA\", \"PHL\", \"CUW\", \"GRD\", \"VNM\", \"VGB\", \"GUM\", \"SLV\", \"ASM\", \"JAM\", \"LCA\", \"GBR\", \"VCT\", \"PAK\", \"TTO\", \"LIE\", \"DEU\", \"VGB\", \"LUX\", \"NPL\", \"DOM\", \"CYM\", \"ITA\", \"ATG\", \"PRK\", \"SYC\", \"CHE\", \"STP\", \"NGA\", \"KNA\", \"GMB\", \"MWI\", \"QAT\", \"UGA\", \"AND\", \"AIA\", \"KSV\", \"KWT\", \"IMN\", \"FSM\", \"TON\", \"CHN\", \"IDN\", \"GTM\", \"TGO\", \"CZE\", \"CPV\", \"THA\", \"DNK\", \"KIR\", \"CYP\", \"POL\", \"AZE\", \"PRT\", \"GHA\", \"SVK\", \"MNP\", \"ALB\", \"HUN\", \"ARM\", \"MDA\", \"AUT\", \"FRA\", \"TUR\", \"CUB\", \"DMA\", \"SVN\", \"ESP\", \"BEN\", \"CRI\", \"ROU\", \"MYS\", \"SRB\", \"SYR\", \"JOR\", \"KHM\", \"EGY\", \"MMR\", \"IRQ\", \"SWZ\", \"GRC\", \"MKD\", \"SLE\", \"TLS\", \"BRN\", \"KEN\", \"HRV\", \"HND\", \"UKR\", \"BIH\", \"MAR\", \"CIV\", \"PYF\", \"SEN\", \"IRL\", \"TUN\", \"GEO\", \"WSM\", \"BFA\", \"ARE\", \"UZB\", \"BGR\", \"ERI\", \"LSO\", \"MEX\", \"GNB\", \"ECU\", \"TJK\", \"TZA\", \"IRN\", \"CMR\", \"YEM\", \"AFG\", \"FJI\", \"NIC\", \"PAN\", \"MNE\", \"BLR\", \"GIN\", \"LTU\", \"PLW\", \"COL\", \"ZAF\", \"LBR\", \"COK\", \"MDG\", \"ZWE\", \"FRO\", \"COD\", \"DJI\", \"USA\", \"VEN\", \"BHM\", \"MOZ\", \"LVA\", \"EST\", \"KGZ\", \"LAO\", \"GNQ\", \"BRA\", \"CHL\", \"PER\", \"SWE\", \"SPM\", \"SLB\", \"VUT\", \"ZMB\", \"BTN\", \"URY\", \"FIN\", \"NOR\", \"PRY\", \"DZA\", \"NZL\", \"SOM\", \"AGO\", \"ARG\", \"BLZ\", \"NER\", \"PNG\", \"NCL\", \"COG\", \"MLI\", \"SAU\", \"TKM\", \"OMN\", \"BOL\", \"TCD\", \"CAF\", \"RUS\", \"GAB\", \"KAZ\", \"NIU\", \"BWA\", \"CAN\", \"GUY\", \"ISL\", \"LBY\", \"MRT\", \"SUR\", \"AUS\", \"NAM\", \"MNG\", \"GRL\", \"FLK\"], \"marker\": {\"line\": {\"color\": \"darkgray\", \"width\": 0.2}}, \"reversescale\": false, \"showscale\": true, \"text\": [\"Bangladesh\", \"Sint Maarten\", \"Guernsey\", \"Jersey\", \"Taiwan\", \"Barbados\", \"Mauritius\", \"Aruba\", \"Lebanon\", \"Saint Martin\", \"San Marino\", \"Rwanda\", \"Korea, South\", \"Netherlands\", \"West Bank\", \"India\", \"Burundi\", \"Tuvalu\", \"Puerto Rico\", \"Marshall Islands\", \"Israel\", \"Belgium\", \"Haiti\", \"Comoros\", \"Japan\", \"Sri Lanka\", \"Philippines\", \"Curacao\", \"Grenada\", \"Vietnam\", \"Virgin Islands\", \"Guam\", \"El Salvador\", \"American Samoa\", \"Jamaica\", \"Saint Lucia\", \"United Kingdom\", \"Saint Vincent and the Grenadines\", \"Pakistan\", \"Trinidad and Tobago\", \"Liechtenstein\", \"Germany\", \"British Virgin Islands\", \"Luxembourg\", \"Nepal\", \"Dominican Republic\", \"Cayman Islands\", \"Italy\", \"Antigua and Barbuda\", \"Korea, North\", \"Seychelles\", \"Switzerland\", \"Sao Tome and Principe\", \"Nigeria\", \"Saint Kitts and Nevis\", \"Gambia, The\", \"Malawi\", \"Qatar\", \"Uganda\", \"Andorra\", \"Anguilla\", \"Kosovo\", \"Kuwait\", \"Isle of Man\", \"Micronesia, Federated States of\", \"Tonga\", \"China\", \"Indonesia\", \"Guatemala\", \"Togo\", \"Czech Republic\", \"Cabo Verde\", \"Thailand\", \"Denmark\", \"Kiribati\", \"Cyprus\", \"Poland\", \"Azerbaijan\", \"Portugal\", \"Ghana\", \"Slovakia\", \"Northern Mariana Islands\", \"Albania\", \"Hungary\", \"Armenia\", \"Moldova\", \"Austria\", \"France\", \"Turkey\", \"Cuba\", \"Dominica\", \"Slovenia\", \"Spain\", \"Benin\", \"Costa Rica\", \"Romania\", \"Malaysia\", \"Serbia\", \"Syria\", \"Jordan\", \"Cambodia\", \"Egypt\", \"Burma\", \"Iraq\", \"Swaziland\", \"Greece\", \"Macedonia\", \"Sierra Leone\", \"Timor-Leste\", \"Brunei\", \"Kenya\", \"Croatia\", \"Honduras\", \"Ukraine\", \"Bosnia and Herzegovina\", \"Morocco\", \"Cote d'Ivoire\", \"French Polynesia\", \"Senegal\", \"Ireland\", \"Tunisia\", \"Georgia\", \"Samoa\", \"Burkina Faso\", \"United Arab Emirates\", \"Uzbekistan\", \"Bulgaria\", \"Eritrea\", \"Lesotho\", \"Mexico\", \"Guinea-Bissau\", \"Ecuador\", \"Tajikistan\", \"Tanzania\", \"Iran\", \"Cameroon\", \"Yemen\", \"Afghanistan\", \"Fiji\", \"Nicaragua\", \"Panama\", \"Montenegro\", \"Belarus\", \"Guinea\", \"Lithuania\", \"Palau\", \"Colombia\", \"South Africa\", \"Liberia\", \"Cook Islands\", \"Madagascar\", \"Zimbabwe\", \"Faroe Islands\", \"Congo, Democratic Republic of the\", \"Djibouti\", \"United States\", \"Venezuela\", \"Bahamas, The\", \"Mozambique\", \"Latvia\", \"Estonia\", \"Kyrgyzstan\", \"Laos\", \"Equatorial Guinea\", \"Brazil\", \"Chile\", \"Peru\", \"Sweden\", \"Saint Pierre and Miquelon\", \"Solomon Islands\", \"Vanuatu\", \"Zambia\", \"Bhutan\", \"Uruguay\", \"Finland\", \"Norway\", \"Paraguay\", \"Algeria\", \"New Zealand\", \"Somalia\", \"Angola\", \"Argentina\", \"Belize\", \"Niger\", \"Papua New Guinea\", \"New Caledonia\", \"Congo, Republic of the\", \"Mali\", \"Saudi Arabia\", \"Turkmenistan\", \"Oman\", \"Bolivia\", \"Chad\", \"Central African Republic\", \"Russia\", \"Gabon\", \"Kazakhstan\", \"Niue\", \"Botswana\", \"Canada\", \"Guyana\", \"Iceland\", \"Libya\", \"Mauritania\", \"Suriname\", \"Australia\", \"Namibia\", \"Mongolia\", \"Greenland\", \"Falkland Islands (Islas Malvinas)\"], \"type\": \"choropleth\", \"z\": [1297.0, 1167.0, 847.0, 838.0, 725.0, 675.0, 660.0, 623.0, 604.0, 588.0, 541.0, 513.0, 506.0, 500.0, 493.0, 420.0, 418.0, 418.0, 405.0, 398.0, 395.0, 374.0, 366.0, 349.0, 348.0, 341.0, 338.0, 334.0, 321.0, 304.0, 299.0, 297.0, 296.0, 273.0, 272.0, 270.0, 264.0, 263.0, 258.0, 238.0, 235.0, 231.0, 221.0, 220.0, 220.0, 216.0, 212.0, 210.0, 209.0, 207.0, 203.0, 203.0, 201.0, 199.0, 198.0, 194.0, 190.0, 189.0, 188.0, 182.0, 180.0, 171.0, 156.0, 153.0, 149.0, 148.0, 146.0, 141.0, 139.0, 138.0, 137.0, 135.0, 133.0, 131.0, 130.0, 128.0, 126.0, 118.0, 118.0, 115.0, 113.0, 112.0, 110.0, 110.0, 108.0, 107.0, 105.0, 103.0, 103.0, 100.0, 98.0, 98.0, 96.0, 94.0, 94.0, 94.0, 92.0, 92.0, 92.0, 91.0, 88.0, 88.0, 86.0, 84.0, 83.0, 82.0, 82.0, 82.0, 82.0, 81.0, 80.0, 79.0, 78.0, 76.0, 75.0, 74.0, 73.0, 73.0, 72.0, 71.0, 71.0, 70.0, 70.0, 69.0, 69.0, 68.0, 66.0, 64.0, 64.0, 62.0, 61.0, 57.0, 57.0, 57.0, 53.0, 50.0, 50.0, 49.0, 49.0, 49.0, 49.0, 48.0, 47.0, 47.0, 46.0, 46.0, 44.0, 44.0, 43.0, 41.0, 40.0, 36.0, 36.0, 35.0, 35.0, 35.0, 33.0, 32.0, 32.0, 31.0, 29.0, 29.0, 29.0, 26.0, 24.0, 23.0, 23.0, 23.0, 23.0, 22.0, 22.0, 20.0, 19.0, 19.0, 18.0, 17.0, 17.0, 16.0, 16.0, 16.0, 15.0, 15.0, 15.0, 14.0, 14.0, 14.0, 13.0, 13.0, 12.0, 11.0, 10.0, 9.0, 9.0, 8.0, 8.0, 6.0, 6.0, 4.0, 3.0, 3.0, 3.0, 3.0, 3.0, 3.0, 3.0, 2.0, 2.0, 1.0, 0.0, 0.0]}],\n",
       "                        {\"annotations\": [{\"showarrow\": false, \"text\": \"Source: <a href=\\\"https://github.com/factbook/factbook.sql/releases\\\">            Factbook</a>\", \"x\": 0.55, \"xref\": \"paper\", \"y\": 0.1, \"yref\": \"paper\"}], \"geo\": {\"projection\": {\"type\": \"equirectangular\"}, \"showcoastlines\": false, \"showframe\": false}, \"template\": {\"data\": {\"bar\": [{\"error_x\": {\"color\": \"#2a3f5f\"}, \"error_y\": {\"color\": \"#2a3f5f\"}, \"marker\": {\"line\": {\"color\": \"#E5ECF6\", \"width\": 0.5}}, \"type\": \"bar\"}], \"barpolar\": [{\"marker\": {\"line\": {\"color\": \"#E5ECF6\", \"width\": 0.5}}, \"type\": \"barpolar\"}], \"carpet\": [{\"aaxis\": {\"endlinecolor\": \"#2a3f5f\", \"gridcolor\": \"white\", \"linecolor\": \"white\", \"minorgridcolor\": \"white\", \"startlinecolor\": \"#2a3f5f\"}, \"baxis\": {\"endlinecolor\": \"#2a3f5f\", \"gridcolor\": \"white\", \"linecolor\": \"white\", \"minorgridcolor\": \"white\", \"startlinecolor\": \"#2a3f5f\"}, \"type\": \"carpet\"}], \"choropleth\": [{\"colorbar\": {\"outlinewidth\": 0, \"ticks\": \"\"}, \"type\": \"choropleth\"}], \"contour\": [{\"colorbar\": {\"outlinewidth\": 0, \"ticks\": \"\"}, \"colorscale\": [[0.0, \"#0d0887\"], [0.1111111111111111, \"#46039f\"], [0.2222222222222222, \"#7201a8\"], [0.3333333333333333, \"#9c179e\"], [0.4444444444444444, \"#bd3786\"], [0.5555555555555556, \"#d8576b\"], [0.6666666666666666, \"#ed7953\"], [0.7777777777777778, \"#fb9f3a\"], [0.8888888888888888, \"#fdca26\"], [1.0, \"#f0f921\"]], \"type\": \"contour\"}], \"contourcarpet\": [{\"colorbar\": {\"outlinewidth\": 0, \"ticks\": \"\"}, \"type\": \"contourcarpet\"}], \"heatmap\": [{\"colorbar\": {\"outlinewidth\": 0, \"ticks\": \"\"}, \"colorscale\": [[0.0, \"#0d0887\"], [0.1111111111111111, \"#46039f\"], [0.2222222222222222, \"#7201a8\"], [0.3333333333333333, \"#9c179e\"], [0.4444444444444444, \"#bd3786\"], [0.5555555555555556, \"#d8576b\"], [0.6666666666666666, \"#ed7953\"], [0.7777777777777778, \"#fb9f3a\"], [0.8888888888888888, \"#fdca26\"], [1.0, \"#f0f921\"]], \"type\": \"heatmap\"}], \"heatmapgl\": [{\"colorbar\": {\"outlinewidth\": 0, \"ticks\": \"\"}, \"colorscale\": [[0.0, \"#0d0887\"], [0.1111111111111111, \"#46039f\"], [0.2222222222222222, \"#7201a8\"], [0.3333333333333333, \"#9c179e\"], [0.4444444444444444, \"#bd3786\"], [0.5555555555555556, \"#d8576b\"], [0.6666666666666666, \"#ed7953\"], [0.7777777777777778, \"#fb9f3a\"], [0.8888888888888888, \"#fdca26\"], [1.0, \"#f0f921\"]], \"type\": \"heatmapgl\"}], \"histogram\": [{\"marker\": {\"colorbar\": {\"outlinewidth\": 0, \"ticks\": \"\"}}, \"type\": \"histogram\"}], \"histogram2d\": [{\"colorbar\": {\"outlinewidth\": 0, \"ticks\": \"\"}, \"colorscale\": [[0.0, \"#0d0887\"], [0.1111111111111111, \"#46039f\"], [0.2222222222222222, \"#7201a8\"], [0.3333333333333333, \"#9c179e\"], [0.4444444444444444, \"#bd3786\"], [0.5555555555555556, \"#d8576b\"], [0.6666666666666666, \"#ed7953\"], [0.7777777777777778, \"#fb9f3a\"], [0.8888888888888888, \"#fdca26\"], [1.0, \"#f0f921\"]], \"type\": \"histogram2d\"}], \"histogram2dcontour\": [{\"colorbar\": {\"outlinewidth\": 0, \"ticks\": \"\"}, \"colorscale\": [[0.0, \"#0d0887\"], [0.1111111111111111, \"#46039f\"], [0.2222222222222222, \"#7201a8\"], [0.3333333333333333, \"#9c179e\"], [0.4444444444444444, \"#bd3786\"], [0.5555555555555556, \"#d8576b\"], [0.6666666666666666, \"#ed7953\"], [0.7777777777777778, \"#fb9f3a\"], [0.8888888888888888, \"#fdca26\"], [1.0, \"#f0f921\"]], \"type\": \"histogram2dcontour\"}], \"mesh3d\": [{\"colorbar\": {\"outlinewidth\": 0, \"ticks\": \"\"}, \"type\": \"mesh3d\"}], \"parcoords\": [{\"line\": {\"colorbar\": {\"outlinewidth\": 0, \"ticks\": \"\"}}, \"type\": \"parcoords\"}], \"scatter\": [{\"marker\": {\"colorbar\": {\"outlinewidth\": 0, \"ticks\": \"\"}}, \"type\": \"scatter\"}], \"scatter3d\": [{\"line\": {\"colorbar\": {\"outlinewidth\": 0, \"ticks\": \"\"}}, \"marker\": {\"colorbar\": {\"outlinewidth\": 0, \"ticks\": \"\"}}, \"type\": \"scatter3d\"}], \"scattercarpet\": [{\"marker\": {\"colorbar\": {\"outlinewidth\": 0, \"ticks\": \"\"}}, \"type\": \"scattercarpet\"}], \"scattergeo\": [{\"marker\": {\"colorbar\": {\"outlinewidth\": 0, \"ticks\": \"\"}}, \"type\": \"scattergeo\"}], \"scattergl\": [{\"marker\": {\"colorbar\": {\"outlinewidth\": 0, \"ticks\": \"\"}}, \"type\": \"scattergl\"}], \"scattermapbox\": [{\"marker\": {\"colorbar\": {\"outlinewidth\": 0, \"ticks\": \"\"}}, \"type\": \"scattermapbox\"}], \"scatterpolar\": [{\"marker\": {\"colorbar\": {\"outlinewidth\": 0, \"ticks\": \"\"}}, \"type\": \"scatterpolar\"}], \"scatterpolargl\": [{\"marker\": {\"colorbar\": {\"outlinewidth\": 0, \"ticks\": \"\"}}, \"type\": \"scatterpolargl\"}], \"scatterternary\": [{\"marker\": {\"colorbar\": {\"outlinewidth\": 0, \"ticks\": \"\"}}, \"type\": \"scatterternary\"}], \"surface\": [{\"colorbar\": {\"outlinewidth\": 0, \"ticks\": \"\"}, \"colorscale\": [[0.0, \"#0d0887\"], [0.1111111111111111, \"#46039f\"], [0.2222222222222222, \"#7201a8\"], [0.3333333333333333, \"#9c179e\"], [0.4444444444444444, \"#bd3786\"], [0.5555555555555556, \"#d8576b\"], [0.6666666666666666, \"#ed7953\"], [0.7777777777777778, \"#fb9f3a\"], [0.8888888888888888, \"#fdca26\"], [1.0, \"#f0f921\"]], \"type\": \"surface\"}], \"table\": [{\"cells\": {\"fill\": {\"color\": \"#EBF0F8\"}, \"line\": {\"color\": \"white\"}}, \"header\": {\"fill\": {\"color\": \"#C8D4E3\"}, \"line\": {\"color\": \"white\"}}, \"type\": \"table\"}]}, \"layout\": {\"annotationdefaults\": {\"arrowcolor\": \"#2a3f5f\", \"arrowhead\": 0, \"arrowwidth\": 1}, \"colorscale\": {\"diverging\": [[0, \"#8e0152\"], [0.1, \"#c51b7d\"], [0.2, \"#de77ae\"], [0.3, \"#f1b6da\"], [0.4, \"#fde0ef\"], [0.5, \"#f7f7f7\"], [0.6, \"#e6f5d0\"], [0.7, \"#b8e186\"], [0.8, \"#7fbc41\"], [0.9, \"#4d9221\"], [1, \"#276419\"]], \"sequential\": [[0.0, \"#0d0887\"], [0.1111111111111111, \"#46039f\"], [0.2222222222222222, \"#7201a8\"], [0.3333333333333333, \"#9c179e\"], [0.4444444444444444, \"#bd3786\"], [0.5555555555555556, \"#d8576b\"], [0.6666666666666666, \"#ed7953\"], [0.7777777777777778, \"#fb9f3a\"], [0.8888888888888888, \"#fdca26\"], [1.0, \"#f0f921\"]], \"sequentialminus\": [[0.0, \"#0d0887\"], [0.1111111111111111, \"#46039f\"], [0.2222222222222222, \"#7201a8\"], [0.3333333333333333, \"#9c179e\"], [0.4444444444444444, \"#bd3786\"], [0.5555555555555556, \"#d8576b\"], [0.6666666666666666, \"#ed7953\"], [0.7777777777777778, \"#fb9f3a\"], [0.8888888888888888, \"#fdca26\"], [1.0, \"#f0f921\"]]}, \"colorway\": [\"#636efa\", \"#EF553B\", \"#00cc96\", \"#ab63fa\", \"#FFA15A\", \"#19d3f3\", \"#FF6692\", \"#B6E880\", \"#FF97FF\", \"#FECB52\"], \"font\": {\"color\": \"#2a3f5f\"}, \"geo\": {\"bgcolor\": \"white\", \"lakecolor\": \"white\", \"landcolor\": \"#E5ECF6\", \"showlakes\": true, \"showland\": true, \"subunitcolor\": \"white\"}, \"hoverlabel\": {\"align\": \"left\"}, \"hovermode\": \"closest\", \"mapbox\": {\"style\": \"light\"}, \"paper_bgcolor\": \"white\", \"plot_bgcolor\": \"#E5ECF6\", \"polar\": {\"angularaxis\": {\"gridcolor\": \"white\", \"linecolor\": \"white\", \"ticks\": \"\"}, \"bgcolor\": \"#E5ECF6\", \"radialaxis\": {\"gridcolor\": \"white\", \"linecolor\": \"white\", \"ticks\": \"\"}}, \"scene\": {\"xaxis\": {\"backgroundcolor\": \"#E5ECF6\", \"gridcolor\": \"white\", \"gridwidth\": 2, \"linecolor\": \"white\", \"showbackground\": true, \"ticks\": \"\", \"zerolinecolor\": \"white\"}, \"yaxis\": {\"backgroundcolor\": \"#E5ECF6\", \"gridcolor\": \"white\", \"gridwidth\": 2, \"linecolor\": \"white\", \"showbackground\": true, \"ticks\": \"\", \"zerolinecolor\": \"white\"}, \"zaxis\": {\"backgroundcolor\": \"#E5ECF6\", \"gridcolor\": \"white\", \"gridwidth\": 2, \"linecolor\": \"white\", \"showbackground\": true, \"ticks\": \"\", \"zerolinecolor\": \"white\"}}, \"shapedefaults\": {\"line\": {\"color\": \"#2a3f5f\"}}, \"ternary\": {\"aaxis\": {\"gridcolor\": \"white\", \"linecolor\": \"white\", \"ticks\": \"\"}, \"baxis\": {\"gridcolor\": \"white\", \"linecolor\": \"white\", \"ticks\": \"\"}, \"bgcolor\": \"#E5ECF6\", \"caxis\": {\"gridcolor\": \"white\", \"linecolor\": \"white\", \"ticks\": \"\"}}, \"title\": {\"x\": 0.05}, \"xaxis\": {\"automargin\": true, \"gridcolor\": \"white\", \"linecolor\": \"white\", \"ticks\": \"\", \"zerolinecolor\": \"white\", \"zerolinewidth\": 2}, \"yaxis\": {\"automargin\": true, \"gridcolor\": \"white\", \"linecolor\": \"white\", \"ticks\": \"\", \"zerolinecolor\": \"white\", \"zerolinewidth\": 2}}}, \"title\": {\"text\": \"Population Density\"}},\n",
       "                        {\"responsive\": true}\n",
       "                    ).then(function(){\n",
       "                            \n",
       "var gd = document.getElementById('af057124-af2c-46ac-b543-1a9babecb3de');\n",
       "var x = new MutationObserver(function (mutations, observer) {{\n",
       "        var display = window.getComputedStyle(gd).display;\n",
       "        if (!display || display === 'none') {{\n",
       "            console.log([gd, 'removed!']);\n",
       "            Plotly.purge(gd);\n",
       "            observer.disconnect();\n",
       "        }}\n",
       "}});\n",
       "\n",
       "// Listen for the removal of the full notebook cells\n",
       "var notebookContainer = gd.closest('#notebook-container');\n",
       "if (notebookContainer) {{\n",
       "    x.observe(notebookContainer, {childList: true});\n",
       "}}\n",
       "\n",
       "// Listen for the clearing of the current output cell\n",
       "var outputEl = gd.closest('.output');\n",
       "if (outputEl) {{\n",
       "    x.observe(outputEl, {childList: true});\n",
       "}}\n",
       "\n",
       "                        })\n",
       "                };\n",
       "                });\n",
       "            </script>\n",
       "        </div>"
      ]
     },
     "metadata": {},
     "output_type": "display_data"
    },
    {
     "data": {
      "text/html": [
       "\n",
       "        <iframe\n",
       "            width=\"100%\"\n",
       "            height=\"525px\"\n",
       "            src=\"https://plot.ly/~keedanbarrera/16.embed\"\n",
       "            frameborder=\"0\"\n",
       "            allowfullscreen\n",
       "        ></iframe>\n",
       "        "
      ],
      "text/plain": [
       "<IPython.lib.display.IFrame at 0x11daa8f98>"
      ]
     },
     "execution_count": 12,
     "metadata": {},
     "output_type": "execute_result"
    }
   ],
   "source": [
    "import plotly.graph_objects as go\n",
    "import numpy as np\n",
    "from plotly.offline import download_plotlyjs, init_notebook_mode, iplot\n",
    "import chart_studio.plotly as py\n",
    "init_notebook_mode(connected=True)\n",
    "\n",
    "fig = go.Figure(data=go.Choropleth(\n",
    "    locations = df['CODE'],\n",
    "    z = df['density'],\n",
    "    text = df['name'],\n",
    "    colorscale = 'sunset', \n",
    "    autocolorscale=False,\n",
    "#     tick0 = '1',\n",
    "    showscale=True,\n",
    "    reversescale=False,\n",
    "    marker_line_color='darkgray',\n",
    "    marker_line_width=0.2,\n",
    "    colorbar_title = 'Density ppl/km^2',\n",
    "))\n",
    "\n",
    "fig.update_layout(\n",
    "    title_text='Population Density',\n",
    "    geo=dict(\n",
    "        showframe=False,\n",
    "        showcoastlines=False,\n",
    "        projection_type='equirectangular'\n",
    "    ),\n",
    "    annotations = [dict(\n",
    "        x=0.55,\n",
    "        y=0.1,\n",
    "        xref='paper',\n",
    "        yref='paper',\n",
    "        text='Source: <a href=\"https://github.com/factbook/factbook.sql/releases\">\\\n",
    "            Factbook</a>',\n",
    "        showarrow = False\n",
    "    )]\n",
    ")\n",
    "\n",
    "# fig.show()\n",
    "iplot(fig)\n",
    "py.iplot(fig, filename='World Population Density')"
   ]
  },
  {
   "cell_type": "markdown",
   "metadata": {},
   "source": [
    "Results:  Bangladesh, South Korea, Lebanon, Netherlands, and India are among the highest populated areas in the world.  Parts of Western Europe are very dense as well, and can be seen even on any smartphone map with roads and structures everywhere!  \n",
    "\n",
    "Note:  There are some missing data points (i.e. Sudan, South Sudan, Ethiopia) because of missing data on land area, therefore a density could not be concluded.  \n",
    "\n",
    "Extra:  Figure out a way to make the colormap logarithmic so that the extremes don't skew the map into showing that the United States and Honduras have a close population density based on color (35 vs 78).  "
   ]
  },
  {
   "cell_type": "code",
   "execution_count": null,
   "metadata": {
    "collapsed": true
   },
   "outputs": [],
   "source": []
  }
 ],
 "metadata": {
  "kernelspec": {
   "display_name": "Python 3",
   "language": "python",
   "name": "python3"
  }
 },
 "nbformat": 4,
 "nbformat_minor": 2
}
